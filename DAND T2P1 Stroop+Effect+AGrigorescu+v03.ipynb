{
 "cells": [
  {
   "cell_type": "markdown",
   "metadata": {},
   "source": [
    "# Analyzing the Stroop Effect"
   ]
  },
  {
   "cell_type": "markdown",
   "metadata": {},
   "source": [
    "<b>Alina Grigorescu</b><br>\n",
    "Bucharest, 2018"
   ]
  },
  {
   "cell_type": "markdown",
   "metadata": {},
   "source": [
    "<b>INTRODUCTION</b><br>\n",
    "The study below analyses the results of a interference in the reaction time of a task. <br>\n",
    "The task set was to say the color names of the ink (naming the color) in which words were written and the interference was that the words (that were color names) were colored differently than their word meaning. In psychology, this is called the <b>Stroop effect</b>.<br>\n",
    "The situations when the color names were written in the same color as the word stated are called Congruent and the cases were there was a mismatch are called Incongruent. The time it took to name the colors in the two situations was measured in seconds.\n",
    "<br><br><b>QUESTIONS ANSWERED</b><br>\n",
    "In order to analyse the Stroop effect data we performed some <b>descriptive analysis</b> and a <b>dependent sample t-test</b> where the NULL Hypotheses(H0) states that the color of the text has has no effect on the reading time, while the ALTERNATIVE Hypotheses(H1) states that the color of the words has an influence on the time if reading the text.\n",
    "A <b>dependent sample t-test</b> was considered appropriate as the same participants are tested more than once and because the sample size is relatively small (only 24 participants/cases). The confidence level chosen was 99% (alpha=0.01).\n",
    "\n",
    "<br><br><b>CONCLUSION</b><br>\n",
    "The <b>descriptive analysis</b> shows that the study contains 24 pairs of observations for Congruent and Incongruent reading time. <br>The average time for reading congruent color names was 14 seconds, while for incongruent color names this was 22. The minimum difference in reading times was close to 2 seconds while the maximum difference was nearly 22 seconds. The standard deviation whithin the difference was 4.86 seconds.\n",
    "The results of the <b>dependent sample t-test</b> show that t_calculed of -8.02 is much lower than the t_critical established at question 2 (t_critical=-2.5). Thus, the t_calculated is in the critical region and the NULL hypothesis(H0) is rejected. This means that the difference in time to name the colors is statistically different in the case of congruence versus incongruence between ink color and word."
   ]
  },
  {
   "cell_type": "markdown",
   "metadata": {},
   "source": []
  },
  {
   "cell_type": "code",
   "execution_count": 53,
   "metadata": {
    "collapsed": true
   },
   "outputs": [],
   "source": [
    "# Render our plots inline\n",
    "%matplotlib inline\n",
    "\n",
    "import matplotlib.pyplot as plt\n",
    "import pandas as pd\n",
    "import numpy as np\n",
    "\n",
    "# Read the file\n",
    "stroopdata = pd.read_csv(\"stroopdata.csv\")"
   ]
  },
  {
   "cell_type": "code",
   "execution_count": 54,
   "metadata": {
    "collapsed": false
   },
   "outputs": [
    {
     "name": "stdout",
     "output_type": "stream",
     "text": [
      "    Congruent  Incongruent\n",
      "14     18.200       35.255\n",
      "19     12.369       34.288\n",
      "9      14.480       26.282\n",
      "16     18.495       25.139\n",
      "6      14.692       24.572\n",
      "10     22.328       24.524\n",
      "20     12.944       23.894\n",
      "4      14.669       22.803\n",
      "15     12.130       22.158\n",
      "22     19.710       22.058\n",
      "2       9.564       21.214\n",
      "23     16.004       21.157\n",
      "5      12.238       20.878\n",
      "8       9.401       20.762\n",
      "17     10.639       20.429\n",
      "13     16.929       20.330\n",
      "0      12.079       19.278\n",
      "1      16.791       18.741\n",
      "11     15.298       18.644\n",
      "21     14.233       17.960\n",
      "12     15.073       17.510\n",
      "18     11.344       17.425\n",
      "7       8.987       17.394\n",
      "3       8.630       15.687\n"
     ]
    }
   ],
   "source": [
    "# Print content\n",
    "print(stroopdata.sort_values(by='Incongruent', ascending=False))"
   ]
  },
  {
   "cell_type": "code",
   "execution_count": 55,
   "metadata": {
    "collapsed": false
   },
   "outputs": [
    {
     "name": "stdout",
     "output_type": "stream",
     "text": [
      "    Congruent  Incongruent  Difference\n",
      "19     12.369       34.288      21.919\n",
      "14     18.200       35.255      17.055\n",
      "9      14.480       26.282      11.802\n",
      "2       9.564       21.214      11.650\n",
      "8       9.401       20.762      11.361\n",
      "20     12.944       23.894      10.950\n",
      "15     12.130       22.158      10.028\n",
      "6      14.692       24.572       9.880\n",
      "17     10.639       20.429       9.790\n",
      "5      12.238       20.878       8.640\n",
      "7       8.987       17.394       8.407\n",
      "4      14.669       22.803       8.134\n",
      "0      12.079       19.278       7.199\n",
      "3       8.630       15.687       7.057\n",
      "16     18.495       25.139       6.644\n",
      "18     11.344       17.425       6.081\n",
      "23     16.004       21.157       5.153\n",
      "21     14.233       17.960       3.727\n",
      "13     16.929       20.330       3.401\n",
      "11     15.298       18.644       3.346\n",
      "12     15.073       17.510       2.437\n",
      "22     19.710       22.058       2.348\n",
      "10     22.328       24.524       2.196\n",
      "1      16.791       18.741       1.950\n"
     ]
    }
   ],
   "source": [
    "# Add difference between Congruent and Incongruent time to dataframe\n",
    "stroopdata['Difference']=stroopdata['Incongruent']-stroopdata['Congruent']\n",
    "print(stroopdata.sort_values(by='Difference', ascending=False))"
   ]
  },
  {
   "cell_type": "markdown",
   "metadata": {},
   "source": [
    "The study contains 24 pairs of observations for Congruent and Incongruent reading time. <br>The average time for reading congruent color names was 14 seconds, while for incongruent color names this was 22. The minimum difference in reading times was close to 2 seconds while the maximum difference was nearly 22 seconds. The standard deviation whithin the difference was 4.86 seconds."
   ]
  },
  {
   "cell_type": "markdown",
   "metadata": {},
   "source": [
    "(1) What is the independent variable? What is the dependent variable?<br>\n",
    "<b>Independent variable</b>: The congruence/incongruence between the word and the color they are written in<br>\n",
    "<b>Dependent variable</b>: The time it takes to read the words\n"
   ]
  },
  {
   "cell_type": "markdown",
   "metadata": {},
   "source": [
    "(2) What is an appropriate set of hypotheses for this task? Specify your null and alternative hypotheses, and clearly define any notation used. Justify your choices.<br>\n",
    "\n",
    "H0: μi ≤ μc<br>\n",
    "H1: μi > μc<br>\n",
    "\n",
    "Where:<br>\n",
    "μc =time it takes to read the Congruent words <br>\n",
    "μi =time it takes to read the Incongruent words<br><br> \n",
    "In own words:<br>\n",
    "<b>H0:</b> The time it takes to read the Congruent words (μc) is <b>higher or equal to</b> the time it takes to read the Incongruent words (μi)<br>\n",
    "<b>H1</b>: The time it takes to read the Congruent words(μc) is <b>less</b> than the time it takes to read the Incongruent words (μi).<br>\n",
    "<br>The NULL Hypotheses(H0) states that the color of the text has has no effect on the reading time, while the ALTERNATIVE Hypotheses(H1) states that the color of the words has an influence on the time if reading the text.<br>\n",
    "A <b>dependent sample t-test</b> will be performed. This is a statistical procedure used to determine whether the mean difference between two sets of observations is zero. In a dependent sample t-test (paired sample t-test), each subject or entity is measured twice, resulting in pairs of observations.<br>\n",
    "The <b>dependent sample t-test</b> main assumptions:<br>\n",
    "    • The dependent variable must be continuous (in our case the time it takes to read the words).<br>\n",
    "    • The observations are independent of one another.<br>\n",
    "    • The dependent variable should be approximately normally distributed.<br>\n",
    "    • The dependent variable should not contain any outliers.<br>\n",
    "For our data we have:\n",
    "    • Confidence level 99% (alpha=0.01)\n",
    "    • Degrees of freedom 23 (=24-1)\n",
    "    • Resulting t_critical=-2.5\n",
    "    "
   ]
  },
  {
   "cell_type": "markdown",
   "metadata": {},
   "source": [
    "(3) Report some descriptive statistics regarding this dataset. Include at least one measure of central tendency and at least one measure of variability. The name of the data file is 'stroopdata.csv'.<br>\n",
    "\n",
    "Mean, Median, Standard Deviation, Variance\n"
   ]
  },
  {
   "cell_type": "code",
   "execution_count": 56,
   "metadata": {
    "collapsed": false
   },
   "outputs": [
    {
     "data": {
      "text/html": [
       "<div>\n",
       "<style scoped>\n",
       "    .dataframe tbody tr th:only-of-type {\n",
       "        vertical-align: middle;\n",
       "    }\n",
       "\n",
       "    .dataframe tbody tr th {\n",
       "        vertical-align: top;\n",
       "    }\n",
       "\n",
       "    .dataframe thead th {\n",
       "        text-align: right;\n",
       "    }\n",
       "</style>\n",
       "<table border=\"1\" class=\"dataframe\">\n",
       "  <thead>\n",
       "    <tr style=\"text-align: right;\">\n",
       "      <th></th>\n",
       "      <th>Congruent</th>\n",
       "      <th>Incongruent</th>\n",
       "      <th>Difference</th>\n",
       "    </tr>\n",
       "  </thead>\n",
       "  <tbody>\n",
       "    <tr>\n",
       "      <th>count</th>\n",
       "      <td>24.000000</td>\n",
       "      <td>24.000000</td>\n",
       "      <td>24.000000</td>\n",
       "    </tr>\n",
       "    <tr>\n",
       "      <th>mean</th>\n",
       "      <td>14.051125</td>\n",
       "      <td>22.015917</td>\n",
       "      <td>7.964792</td>\n",
       "    </tr>\n",
       "    <tr>\n",
       "      <th>std</th>\n",
       "      <td>3.559358</td>\n",
       "      <td>4.797057</td>\n",
       "      <td>4.864827</td>\n",
       "    </tr>\n",
       "    <tr>\n",
       "      <th>min</th>\n",
       "      <td>8.630000</td>\n",
       "      <td>15.687000</td>\n",
       "      <td>1.950000</td>\n",
       "    </tr>\n",
       "    <tr>\n",
       "      <th>25%</th>\n",
       "      <td>11.895250</td>\n",
       "      <td>18.716750</td>\n",
       "      <td>3.645500</td>\n",
       "    </tr>\n",
       "    <tr>\n",
       "      <th>50%</th>\n",
       "      <td>14.356500</td>\n",
       "      <td>21.017500</td>\n",
       "      <td>7.666500</td>\n",
       "    </tr>\n",
       "    <tr>\n",
       "      <th>75%</th>\n",
       "      <td>16.200750</td>\n",
       "      <td>24.051500</td>\n",
       "      <td>10.258500</td>\n",
       "    </tr>\n",
       "    <tr>\n",
       "      <th>max</th>\n",
       "      <td>22.328000</td>\n",
       "      <td>35.255000</td>\n",
       "      <td>21.919000</td>\n",
       "    </tr>\n",
       "  </tbody>\n",
       "</table>\n",
       "</div>"
      ],
      "text/plain": [
       "       Congruent  Incongruent  Difference\n",
       "count  24.000000    24.000000   24.000000\n",
       "mean   14.051125    22.015917    7.964792\n",
       "std     3.559358     4.797057    4.864827\n",
       "min     8.630000    15.687000    1.950000\n",
       "25%    11.895250    18.716750    3.645500\n",
       "50%    14.356500    21.017500    7.666500\n",
       "75%    16.200750    24.051500   10.258500\n",
       "max    22.328000    35.255000   21.919000"
      ]
     },
     "execution_count": 56,
     "metadata": {},
     "output_type": "execute_result"
    }
   ],
   "source": [
    "# Show descriptive statistics\n",
    "stroopdata.describe()"
   ]
  },
  {
   "cell_type": "markdown",
   "metadata": {},
   "source": [
    "The study contains 24 pairs of observations for Congruent and Incongruent reading time. <br>\n",
    "The average time for reading congruent color names was 14 seconds, while for incongruent color names this was 22. The minimum difference in reading times was close to 2 seconds while the maximum difference was nearly 22 seconds. <br>\n",
    "The standard deviation whithin the difference was 4.86 seconds."
   ]
  },
  {
   "cell_type": "markdown",
   "metadata": {},
   "source": [
    "(4) Provide one or two visualizations that show the distribution of the sample data. Write one or two sentences noting what you observe about the plot or plots.\n",
    "\n"
   ]
  },
  {
   "cell_type": "code",
   "execution_count": 57,
   "metadata": {
    "collapsed": false
   },
   "outputs": [
    {
     "data": {
      "text/plain": [
       "array([[<matplotlib.axes._subplots.AxesSubplot object at 0x00000272C2BF6B70>,\n",
       "        <matplotlib.axes._subplots.AxesSubplot object at 0x00000272C2B53278>],\n",
       "       [<matplotlib.axes._subplots.AxesSubplot object at 0x00000272C44D3EF0>,\n",
       "        <matplotlib.axes._subplots.AxesSubplot object at 0x00000272C41DA358>]],\n",
       "      dtype=object)"
      ]
     },
     "execution_count": 57,
     "metadata": {},
     "output_type": "execute_result"
    },
    {
     "data": {
      "image/png": "[encoded data removed]",
      "text/plain": [
       "<matplotlib.figure.Figure at 0x272c419feb8>"
      ]
     },
     "metadata": {},
     "output_type": "display_data"
    },
    {
     "data": {
      "image/png": "[encoded data removed]",
      "text/plain": [
       "<matplotlib.figure.Figure at 0x272c42ac710>"
      ]
     },
     "metadata": {},
     "output_type": "display_data"
    },
    {
     "data": {
      "image/png": "[encoded data removed]",
      "text/plain": [
       "<matplotlib.figure.Figure at 0x272c419fef0>"
      ]
     },
     "metadata": {},
     "output_type": "display_data"
    }
   ],
   "source": [
    "# Line chart for Congruent, Incongruent, Difference\n",
    "stroopdata.plot()\n",
    "plt.title('Time for reading congruent and incongruent texts and the difference between them')\n",
    "plt.ylabel('Time (seconds)')\n",
    "plt.xlabel('Case number')\n",
    "\n",
    "# Boxplot for Congruent, Incongruent, Difference\n",
    "stroopdata.plot(kind='box', color='red',title=\"Boxplot of Congruent, Incongruent and Difference in time of reading (s)\")\n",
    "plt.ylabel('Time (seconds)')\n",
    "plt.xlabel('Case')\n",
    "\n",
    "# Histograms Congruent, Incongruent, Difference\n",
    "stroopdata.hist()"
   ]
  },
  {
   "cell_type": "markdown",
   "metadata": {},
   "source": [
    "The plots show that the incongruence shows a higher variability in time taken to name the colors and that the average in time taken is also higher than in the congruent situations."
   ]
  },
  {
   "cell_type": "markdown",
   "metadata": {},
   "source": [
    "(5) Now, perform the statistical test and report your results. What is your confidence level or Type I error associated with your test? What is your conclusion regarding the hypotheses you set up? Did the results match up with your expectations? Hint: Think about what is being measured on each individual, and what statistic best captures how an individual reacts in each environment.\n"
   ]
  },
  {
   "cell_type": "code",
   "execution_count": 58,
   "metadata": {
    "collapsed": false
   },
   "outputs": [
    {
     "name": "stdout",
     "output_type": "stream",
     "text": [
      "t_calculated = -8.020706944109957\n",
      "P value = 4.103000585711178e-08\n"
     ]
    }
   ],
   "source": [
    "# Perform the statistical test here\n",
    "from scipy import stats\n",
    "sample_size= 23\n",
    "stats.t.ppf(0.975, sample_size)\n",
    "\n",
    "# Calculates the T-test on TWO RELATED samples of scores, a and b.\n",
    "t,p_value=stats.ttest_rel(stroopdata['Congruent'], stroopdata['Incongruent'])\n",
    "print(\"t_calculated = \"+str(t))\n",
    "print(\"P value = \"+str(p_value))"
   ]
  },
  {
   "cell_type": "markdown",
   "metadata": {},
   "source": [
    "The results show that t_calculed of -8.02 is much lower than the t_critical established at question 2 (t_critical=-2.5). Thus, the t_calculated is in the critical region and the NULL hypothesis(H0) is rejected. This means that the difference in time to name the colors is statistically different in the case of congruence versus incongruence between ink color and word."
   ]
  },
  {
   "cell_type": "markdown",
   "metadata": {},
   "source": [
    "(6) Optional: What do you think is responsible for the effects observed? Can you think of an alternative or similar task that would result in a similar effect? Some research about the problem will be helpful for thinking about these two questions!"
   ]
  },
  {
   "cell_type": "markdown",
   "metadata": {},
   "source": [
    "The interference between the different information (what the words say and the color of the words) brain receives causes a problem. There are two theories that may explain the Stroop effect:<br>\n",
    "    -Speed of Processing Theory: the interference occurs because words are read faster than colors are named.\n",
    "    -Selective Attention Theory: the interference occurs because naming colors requires more attention than reading words.<br>\n",
    "A similar task with a similar effect would be the time it takes to complete an Udacity project at home in a quiet environment versus the time it takes for the similar task to complete in a busy cafe.<br>\n"
   ]
  },
  {
   "cell_type": "markdown",
   "metadata": {},
   "source": [
    "Refferences:<br>\n",
    "https://www.statisticssolutions.com/manova-analysis-paired-sample-t-test/<br>\n",
    "https://faculty.washington.edu/chudler/words.html<br>\n",
    "https://www.cognifit.com/science/cognitive-skills/processing-speed<br>\n",
    "\n",
    "    "
   ]
  },
  {
   "cell_type": "code",
   "execution_count": null,
   "metadata": {
    "collapsed": true
   },
   "outputs": [],
   "source": []
  },
  {
   "cell_type": "code",
   "execution_count": null,
   "metadata": {
    "collapsed": true
   },
   "outputs": [],
   "source": []
  }
 ],
 "metadata": {
  "kernelspec": {
   "display_name": "Python 3",
   "language": "python",
   "name": "python3"
  },
  "language_info": {
   "codemirror_mode": {
    "name": "ipython",
    "version": 3
   },
   "file_extension": ".py",
   "mimetype": "text/x-python",
   "name": "python",
   "nbconvert_exporter": "python",
   "pygments_lexer": "ipython3",
   "version": "3.4.3"
  }
 },
 "nbformat": 4,
 "nbformat_minor": 2
}
