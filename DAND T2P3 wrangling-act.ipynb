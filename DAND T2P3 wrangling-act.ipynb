{
 "cells": [
  {
   "cell_type": "markdown",
   "metadata": {
    "collapsed": true
   },
   "source": [
    "# <b>WeRateDogs Twitter</b> - Data Wrangling project<br>\n",
    "Alina Grigorescu<br>\n",
    "Bucharest, 2018<br>\n",
    "\n",
    "In the following project I will gather data from a variety of sources and in a variety of formats from the <br><b>WeRateDogs</b> Twitter account, assess its quality and tidiness, then clean it. Thus, the main steps are presented below:\n",
    "- Gathering Data<br>\n",
    "- Assessing Data<br>\n",
    "- Cleaning Data<br>\n",
    "- Export Data to CSV file<br>\n",
    "- Insights presentation<br>\n",
    "\n",
    "<br><b>WeRateDogs</b> is a Twitter account that rates people's dogs with a humorous comment about the dog. It was started in 2015 by college student Matt Nelson, and has received international media coverage both for its popularity and for the attention drawn to social media copyright law when it was suspended by Twitter."
   ]
  },
  {
   "cell_type": "code",
   "execution_count": 248,
   "metadata": {
    "collapsed": true
   },
   "outputs": [],
   "source": [
    "# Import libraries\n",
    "import pandas as pd \n",
    "import numpy as np \n",
    "import tweepy \n",
    "import requests \n",
    "import json \n",
    "import os \n",
    "import matplotlib.pyplot as plt"
   ]
  },
  {
   "cell_type": "markdown",
   "metadata": {},
   "source": [
    "# Gathering Data"
   ]
  },
  {
   "cell_type": "markdown",
   "metadata": {},
   "source": [
    "## Manually gathered Data"
   ]
  },
  {
   "cell_type": "code",
   "execution_count": 175,
   "metadata": {
    "collapsed": false
   },
   "outputs": [
    {
     "data": {
      "text/html": [
       "<div>\n",
       "<table border=\"1\" class=\"dataframe\">\n",
       "  <thead>\n",
       "    <tr style=\"text-align: right;\">\n",
       "      <th></th>\n",
       "      <th>tweet_id</th>\n",
       "      <th>in_reply_to_status_id</th>\n",
       "      <th>in_reply_to_user_id</th>\n",
       "      <th>timestamp</th>\n",
       "      <th>source</th>\n",
       "      <th>text</th>\n",
       "      <th>retweeted_status_id</th>\n",
       "      <th>retweeted_status_user_id</th>\n",
       "      <th>retweeted_status_timestamp</th>\n",
       "      <th>expanded_urls</th>\n",
       "      <th>rating_numerator</th>\n",
       "      <th>rating_denominator</th>\n",
       "      <th>name</th>\n",
       "      <th>doggo</th>\n",
       "      <th>floofer</th>\n",
       "      <th>pupper</th>\n",
       "      <th>puppo</th>\n",
       "    </tr>\n",
       "  </thead>\n",
       "  <tbody>\n",
       "    <tr>\n",
       "      <th>1454</th>\n",
       "      <td>695446424020918272</td>\n",
       "      <td>NaN</td>\n",
       "      <td>NaN</td>\n",
       "      <td>2016-02-05 03:18:42 +0000</td>\n",
       "      <td>&lt;a href=\"http://twitter.com/download/iphone\" r...</td>\n",
       "      <td>We normally don't rate unicorns but this one h...</td>\n",
       "      <td>NaN</td>\n",
       "      <td>NaN</td>\n",
       "      <td>NaN</td>\n",
       "      <td>https://twitter.com/dog_rates/status/695446424...</td>\n",
       "      <td>12</td>\n",
       "      <td>10</td>\n",
       "      <td>None</td>\n",
       "      <td>None</td>\n",
       "      <td>None</td>\n",
       "      <td>None</td>\n",
       "      <td>None</td>\n",
       "    </tr>\n",
       "    <tr>\n",
       "      <th>669</th>\n",
       "      <td>790227638568808452</td>\n",
       "      <td>NaN</td>\n",
       "      <td>NaN</td>\n",
       "      <td>2016-10-23 16:25:25 +0000</td>\n",
       "      <td>&lt;a href=\"http://twitter.com/download/iphone\" r...</td>\n",
       "      <td>RT @dog_rates: This is Leela. She's a Fetty Wo...</td>\n",
       "      <td>7.626999e+17</td>\n",
       "      <td>4.196984e+09</td>\n",
       "      <td>2016-08-08 17:19:51 +0000</td>\n",
       "      <td>https://twitter.com/dog_rates/status/762699858...</td>\n",
       "      <td>11</td>\n",
       "      <td>10</td>\n",
       "      <td>Leela</td>\n",
       "      <td>None</td>\n",
       "      <td>None</td>\n",
       "      <td>None</td>\n",
       "      <td>None</td>\n",
       "    </tr>\n",
       "    <tr>\n",
       "      <th>1953</th>\n",
       "      <td>673662677122719744</td>\n",
       "      <td>NaN</td>\n",
       "      <td>NaN</td>\n",
       "      <td>2015-12-07 00:37:52 +0000</td>\n",
       "      <td>&lt;a href=\"http://twitter.com/download/iphone\" r...</td>\n",
       "      <td>This is Kendall. 12/10 would cuddle the hell o...</td>\n",
       "      <td>NaN</td>\n",
       "      <td>NaN</td>\n",
       "      <td>NaN</td>\n",
       "      <td>https://twitter.com/dog_rates/status/673662677...</td>\n",
       "      <td>12</td>\n",
       "      <td>10</td>\n",
       "      <td>Kendall</td>\n",
       "      <td>None</td>\n",
       "      <td>None</td>\n",
       "      <td>None</td>\n",
       "      <td>None</td>\n",
       "    </tr>\n",
       "  </tbody>\n",
       "</table>\n",
       "</div>"
      ],
      "text/plain": [
       "                tweet_id  in_reply_to_status_id  in_reply_to_user_id  \\\n",
       "1454  695446424020918272                    NaN                  NaN   \n",
       "669   790227638568808452                    NaN                  NaN   \n",
       "1953  673662677122719744                    NaN                  NaN   \n",
       "\n",
       "                      timestamp  \\\n",
       "1454  2016-02-05 03:18:42 +0000   \n",
       "669   2016-10-23 16:25:25 +0000   \n",
       "1953  2015-12-07 00:37:52 +0000   \n",
       "\n",
       "                                                 source  \\\n",
       "1454  <a href=\"http://twitter.com/download/iphone\" r...   \n",
       "669   <a href=\"http://twitter.com/download/iphone\" r...   \n",
       "1953  <a href=\"http://twitter.com/download/iphone\" r...   \n",
       "\n",
       "                                                   text  retweeted_status_id  \\\n",
       "1454  We normally don't rate unicorns but this one h...                  NaN   \n",
       "669   RT @dog_rates: This is Leela. She's a Fetty Wo...         7.626999e+17   \n",
       "1953  This is Kendall. 12/10 would cuddle the hell o...                  NaN   \n",
       "\n",
       "      retweeted_status_user_id retweeted_status_timestamp  \\\n",
       "1454                       NaN                        NaN   \n",
       "669               4.196984e+09  2016-08-08 17:19:51 +0000   \n",
       "1953                       NaN                        NaN   \n",
       "\n",
       "                                          expanded_urls  rating_numerator  \\\n",
       "1454  https://twitter.com/dog_rates/status/695446424...                12   \n",
       "669   https://twitter.com/dog_rates/status/762699858...                11   \n",
       "1953  https://twitter.com/dog_rates/status/673662677...                12   \n",
       "\n",
       "      rating_denominator     name doggo floofer pupper puppo  \n",
       "1454                  10     None  None    None   None  None  \n",
       "669                   10    Leela  None    None   None  None  \n",
       "1953                  10  Kendall  None    None   None  None  "
      ]
     },
     "execution_count": 175,
     "metadata": {},
     "output_type": "execute_result"
    }
   ],
   "source": [
    "# Read basic tweet data archive Manually\n",
    "df_basic = pd.read_csv(\"twitter-archive-enhanced.csv\")\n",
    "\n",
    "df_basic.sample(3)"
   ]
  },
  {
   "cell_type": "markdown",
   "metadata": {},
   "source": [
    "## Programmatically gathered Data"
   ]
  },
  {
   "cell_type": "code",
   "execution_count": 176,
   "metadata": {
    "collapsed": false
   },
   "outputs": [],
   "source": [
    "# Read URL\n",
    "url = 'https://d17h27t6h515a5.cloudfront.net/topher/2017/August/599fd2ad_image-predictions/image-predictions.tsv'\n",
    "r = requests.get(url)\n",
    "\n",
    "# Save to file\n",
    "with open('image-predictions.tsv', \"wb\") as file: file.write(r.content)\n",
    "    \n",
    "# Read imported data file\n",
    "df_predict = pd.read_csv('image-predictions.tsv', sep=\"\\t\")"
   ]
  },
  {
   "cell_type": "markdown",
   "metadata": {},
   "source": [
    "### Import Data from Twitter API"
   ]
  },
  {
   "cell_type": "code",
   "execution_count": 184,
   "metadata": {
    "collapsed": false
   },
   "outputs": [],
   "source": [
    "# Read API Keys\n",
    "df_additional = pd.read_csv(\"API key token.csv\")"
   ]
  },
  {
   "cell_type": "code",
   "execution_count": null,
   "metadata": {
    "collapsed": false
   },
   "outputs": [],
   "source": [
    "# Attribute API Keys to variables\n",
    "API_key = df_additional.iloc[0,0]\n",
    "API_secret_key = df_additional.iloc[1,0]\n",
    "access_token = df_additional.iloc[2,0]\n",
    "access_token_secret = df_additional.iloc[3,0]\n",
    "print(consumer_key)"
   ]
  },
  {
   "cell_type": "code",
   "execution_count": null,
   "metadata": {
    "collapsed": true
   },
   "outputs": [],
   "source": [
    "# Create Connection to API\n",
    "auth = tweepy.OAuthHandler(API_key, API_secret_key)\n",
    "auth.set_access_token(access_token, access_token_secret)\n",
    "api = tweepy.API(auth_handler=auth, wait_on_rate_limit=True, wait_on_rate_limit_notify=True)"
   ]
  },
  {
   "cell_type": "code",
   "execution_count": null,
   "metadata": {
    "collapsed": false
   },
   "outputs": [],
   "source": [
    "# For loop which will add each available tweet to a new line of tweet_json.txt\n",
    "with open('tweet_json.txt', 'a', encoding='utf8') as f:\n",
    "    for tweet_id in df_basic['tweet_id']:\n",
    "        try:\n",
    "            tweet = api.get_status(tweet_id, tweet_mode='extended')\n",
    "            json.dump(tweet._json, f)\n",
    "            f.write('\\n')\n",
    "        except:\n",
    "            continue"
   ]
  },
  {
   "cell_type": "code",
   "execution_count": null,
   "metadata": {
    "collapsed": true
   },
   "outputs": [],
   "source": [
    "# For loop to add each tweet into a list\n",
    "tweets_data = []\n",
    "tweet_file = open('tweet_json.txt', \"r\")\n",
    "\n",
    "for line in tweet_file:\n",
    "    try:\n",
    "        tweet = json.loads(line)\n",
    "        tweets_data.append(tweet)\n",
    "    except:\n",
    "        continue\n",
    "        \n",
    "tweet_file.close()"
   ]
  },
  {
   "cell_type": "code",
   "execution_count": null,
   "metadata": {
    "collapsed": true
   },
   "outputs": [],
   "source": [
    "# Create df_info dataframe\n",
    "df_info = pd.DataFrame()"
   ]
  },
  {
   "cell_type": "code",
   "execution_count": null,
   "metadata": {
    "collapsed": true
   },
   "outputs": [],
   "source": [
    "# Add the chosen variables to df_info dataframe\n",
    "df_info['id'] = list(map(lambda tweet: tweet['id'], tweets_data))\n",
    "df_info['retweet_count'] = list(map(lambda tweet: tweet['retweet_count'], tweets_data))\n",
    "df_info['favorite_count'] = list(map(lambda tweet: tweet['favorite_count'], tweets_data))"
   ]
  },
  {
   "cell_type": "code",
   "execution_count": null,
   "metadata": {
    "collapsed": false,
    "scrolled": true
   },
   "outputs": [],
   "source": [
    "df_info.sample(5)"
   ]
  },
  {
   "cell_type": "markdown",
   "metadata": {},
   "source": [
    "# Data Assessment- Visual & Programmatic"
   ]
  },
  {
   "cell_type": "code",
   "execution_count": 192,
   "metadata": {
    "collapsed": false
   },
   "outputs": [
    {
     "data": {
      "text/html": [
       "<div>\n",
       "<table border=\"1\" class=\"dataframe\">\n",
       "  <thead>\n",
       "    <tr style=\"text-align: right;\">\n",
       "      <th></th>\n",
       "      <th>tweet_id</th>\n",
       "      <th>in_reply_to_status_id</th>\n",
       "      <th>in_reply_to_user_id</th>\n",
       "      <th>timestamp</th>\n",
       "      <th>source</th>\n",
       "      <th>text</th>\n",
       "      <th>retweeted_status_id</th>\n",
       "      <th>retweeted_status_user_id</th>\n",
       "      <th>retweeted_status_timestamp</th>\n",
       "      <th>expanded_urls</th>\n",
       "      <th>rating_numerator</th>\n",
       "      <th>rating_denominator</th>\n",
       "      <th>name</th>\n",
       "      <th>doggo</th>\n",
       "      <th>floofer</th>\n",
       "      <th>pupper</th>\n",
       "      <th>puppo</th>\n",
       "    </tr>\n",
       "  </thead>\n",
       "  <tbody>\n",
       "    <tr>\n",
       "      <th>1351</th>\n",
       "      <td>704054845121142784</td>\n",
       "      <td>NaN</td>\n",
       "      <td>NaN</td>\n",
       "      <td>2016-02-28 21:25:30 +0000</td>\n",
       "      <td>&lt;a href=\"http://twitter.com/download/iphone\" r...</td>\n",
       "      <td>Here is a whole flock of puppers.  60/50 I'll ...</td>\n",
       "      <td>NaN</td>\n",
       "      <td>NaN</td>\n",
       "      <td>NaN</td>\n",
       "      <td>https://twitter.com/dog_rates/status/704054845...</td>\n",
       "      <td>60</td>\n",
       "      <td>50</td>\n",
       "      <td>a</td>\n",
       "      <td>None</td>\n",
       "      <td>None</td>\n",
       "      <td>None</td>\n",
       "      <td>None</td>\n",
       "    </tr>\n",
       "    <tr>\n",
       "      <th>1594</th>\n",
       "      <td>686377065986265092</td>\n",
       "      <td>NaN</td>\n",
       "      <td>NaN</td>\n",
       "      <td>2016-01-11 02:40:19 +0000</td>\n",
       "      <td>&lt;a href=\"http://twitter.com/download/iphone\" r...</td>\n",
       "      <td>Meet Birf. He thinks he's gone blind. 10/10 ve...</td>\n",
       "      <td>NaN</td>\n",
       "      <td>NaN</td>\n",
       "      <td>NaN</td>\n",
       "      <td>https://twitter.com/dog_rates/status/686377065...</td>\n",
       "      <td>10</td>\n",
       "      <td>10</td>\n",
       "      <td>Birf</td>\n",
       "      <td>None</td>\n",
       "      <td>None</td>\n",
       "      <td>pupper</td>\n",
       "      <td>None</td>\n",
       "    </tr>\n",
       "    <tr>\n",
       "      <th>705</th>\n",
       "      <td>785639753186217984</td>\n",
       "      <td>NaN</td>\n",
       "      <td>NaN</td>\n",
       "      <td>2016-10-11 00:34:48 +0000</td>\n",
       "      <td>&lt;a href=\"http://twitter.com/download/iphone\" r...</td>\n",
       "      <td>This is Pinot. He's a sophisticated doggo. You...</td>\n",
       "      <td>NaN</td>\n",
       "      <td>NaN</td>\n",
       "      <td>NaN</td>\n",
       "      <td>https://twitter.com/dog_rates/status/785639753...</td>\n",
       "      <td>10</td>\n",
       "      <td>10</td>\n",
       "      <td>Pinot</td>\n",
       "      <td>doggo</td>\n",
       "      <td>None</td>\n",
       "      <td>pupper</td>\n",
       "      <td>None</td>\n",
       "    </tr>\n",
       "    <tr>\n",
       "      <th>2168</th>\n",
       "      <td>669354382627049472</td>\n",
       "      <td>NaN</td>\n",
       "      <td>NaN</td>\n",
       "      <td>2015-11-25 03:18:15 +0000</td>\n",
       "      <td>&lt;a href=\"http://twitter.com/download/iphone\" r...</td>\n",
       "      <td>Meet Dug. Dug fucken loves peaches. 8/10 https...</td>\n",
       "      <td>NaN</td>\n",
       "      <td>NaN</td>\n",
       "      <td>NaN</td>\n",
       "      <td>https://twitter.com/dog_rates/status/669354382...</td>\n",
       "      <td>8</td>\n",
       "      <td>10</td>\n",
       "      <td>Dug</td>\n",
       "      <td>None</td>\n",
       "      <td>None</td>\n",
       "      <td>None</td>\n",
       "      <td>None</td>\n",
       "    </tr>\n",
       "    <tr>\n",
       "      <th>2305</th>\n",
       "      <td>666837028449972224</td>\n",
       "      <td>NaN</td>\n",
       "      <td>NaN</td>\n",
       "      <td>2015-11-18 04:35:11 +0000</td>\n",
       "      <td>&lt;a href=\"http://twitter.com/download/iphone\" r...</td>\n",
       "      <td>My goodness. Very rare dog here. Large. Tail d...</td>\n",
       "      <td>NaN</td>\n",
       "      <td>NaN</td>\n",
       "      <td>NaN</td>\n",
       "      <td>https://twitter.com/dog_rates/status/666837028...</td>\n",
       "      <td>3</td>\n",
       "      <td>10</td>\n",
       "      <td>None</td>\n",
       "      <td>None</td>\n",
       "      <td>None</td>\n",
       "      <td>None</td>\n",
       "      <td>None</td>\n",
       "    </tr>\n",
       "    <tr>\n",
       "      <th>471</th>\n",
       "      <td>816697700272001025</td>\n",
       "      <td>NaN</td>\n",
       "      <td>NaN</td>\n",
       "      <td>2017-01-04 17:27:59 +0000</td>\n",
       "      <td>&lt;a href=\"http://twitter.com/download/iphone\" r...</td>\n",
       "      <td>This is Binky. She appears to be rather h*ckin...</td>\n",
       "      <td>NaN</td>\n",
       "      <td>NaN</td>\n",
       "      <td>NaN</td>\n",
       "      <td>https://twitter.com/dog_rates/status/816697700...</td>\n",
       "      <td>12</td>\n",
       "      <td>10</td>\n",
       "      <td>Binky</td>\n",
       "      <td>None</td>\n",
       "      <td>None</td>\n",
       "      <td>None</td>\n",
       "      <td>None</td>\n",
       "    </tr>\n",
       "    <tr>\n",
       "      <th>2244</th>\n",
       "      <td>667886921285246976</td>\n",
       "      <td>NaN</td>\n",
       "      <td>NaN</td>\n",
       "      <td>2015-11-21 02:07:05 +0000</td>\n",
       "      <td>&lt;a href=\"http://twitter.com/download/iphone\" r...</td>\n",
       "      <td>This is Erik. He's fucken massive. But also ki...</td>\n",
       "      <td>NaN</td>\n",
       "      <td>NaN</td>\n",
       "      <td>NaN</td>\n",
       "      <td>https://twitter.com/dog_rates/status/667886921...</td>\n",
       "      <td>11</td>\n",
       "      <td>10</td>\n",
       "      <td>Erik</td>\n",
       "      <td>None</td>\n",
       "      <td>None</td>\n",
       "      <td>None</td>\n",
       "      <td>None</td>\n",
       "    </tr>\n",
       "    <tr>\n",
       "      <th>394</th>\n",
       "      <td>825829644528148480</td>\n",
       "      <td>NaN</td>\n",
       "      <td>NaN</td>\n",
       "      <td>2017-01-29 22:15:05 +0000</td>\n",
       "      <td>&lt;a href=\"http://twitter.com/download/iphone\" r...</td>\n",
       "      <td>This is Toby. He just found out you only prete...</td>\n",
       "      <td>NaN</td>\n",
       "      <td>NaN</td>\n",
       "      <td>NaN</td>\n",
       "      <td>https://twitter.com/dog_rates/status/825829644...</td>\n",
       "      <td>12</td>\n",
       "      <td>10</td>\n",
       "      <td>Toby</td>\n",
       "      <td>None</td>\n",
       "      <td>None</td>\n",
       "      <td>None</td>\n",
       "      <td>None</td>\n",
       "    </tr>\n",
       "    <tr>\n",
       "      <th>1511</th>\n",
       "      <td>691416866452082688</td>\n",
       "      <td>NaN</td>\n",
       "      <td>NaN</td>\n",
       "      <td>2016-01-25 00:26:41 +0000</td>\n",
       "      <td>&lt;a href=\"http://twitter.com/download/iphone\" r...</td>\n",
       "      <td>I present to you... Dog Jesus. 13/10 (he could...</td>\n",
       "      <td>NaN</td>\n",
       "      <td>NaN</td>\n",
       "      <td>NaN</td>\n",
       "      <td>https://twitter.com/dog_rates/status/691416866...</td>\n",
       "      <td>13</td>\n",
       "      <td>10</td>\n",
       "      <td>None</td>\n",
       "      <td>None</td>\n",
       "      <td>None</td>\n",
       "      <td>None</td>\n",
       "      <td>None</td>\n",
       "    </tr>\n",
       "    <tr>\n",
       "      <th>378</th>\n",
       "      <td>827933404142436356</td>\n",
       "      <td>NaN</td>\n",
       "      <td>NaN</td>\n",
       "      <td>2017-02-04 17:34:40 +0000</td>\n",
       "      <td>&lt;a href=\"http://twitter.com/download/iphone\" r...</td>\n",
       "      <td>This is Kona. Yesterday she stopped by the dep...</td>\n",
       "      <td>NaN</td>\n",
       "      <td>NaN</td>\n",
       "      <td>NaN</td>\n",
       "      <td>https://twitter.com/dog_rates/status/827933404...</td>\n",
       "      <td>12</td>\n",
       "      <td>10</td>\n",
       "      <td>Kona</td>\n",
       "      <td>None</td>\n",
       "      <td>None</td>\n",
       "      <td>pupper</td>\n",
       "      <td>None</td>\n",
       "    </tr>\n",
       "  </tbody>\n",
       "</table>\n",
       "</div>"
      ],
      "text/plain": [
       "                tweet_id  in_reply_to_status_id  in_reply_to_user_id  \\\n",
       "1351  704054845121142784                    NaN                  NaN   \n",
       "1594  686377065986265092                    NaN                  NaN   \n",
       "705   785639753186217984                    NaN                  NaN   \n",
       "2168  669354382627049472                    NaN                  NaN   \n",
       "2305  666837028449972224                    NaN                  NaN   \n",
       "471   816697700272001025                    NaN                  NaN   \n",
       "2244  667886921285246976                    NaN                  NaN   \n",
       "394   825829644528148480                    NaN                  NaN   \n",
       "1511  691416866452082688                    NaN                  NaN   \n",
       "378   827933404142436356                    NaN                  NaN   \n",
       "\n",
       "                      timestamp  \\\n",
       "1351  2016-02-28 21:25:30 +0000   \n",
       "1594  2016-01-11 02:40:19 +0000   \n",
       "705   2016-10-11 00:34:48 +0000   \n",
       "2168  2015-11-25 03:18:15 +0000   \n",
       "2305  2015-11-18 04:35:11 +0000   \n",
       "471   2017-01-04 17:27:59 +0000   \n",
       "2244  2015-11-21 02:07:05 +0000   \n",
       "394   2017-01-29 22:15:05 +0000   \n",
       "1511  2016-01-25 00:26:41 +0000   \n",
       "378   2017-02-04 17:34:40 +0000   \n",
       "\n",
       "                                                 source  \\\n",
       "1351  <a href=\"http://twitter.com/download/iphone\" r...   \n",
       "1594  <a href=\"http://twitter.com/download/iphone\" r...   \n",
       "705   <a href=\"http://twitter.com/download/iphone\" r...   \n",
       "2168  <a href=\"http://twitter.com/download/iphone\" r...   \n",
       "2305  <a href=\"http://twitter.com/download/iphone\" r...   \n",
       "471   <a href=\"http://twitter.com/download/iphone\" r...   \n",
       "2244  <a href=\"http://twitter.com/download/iphone\" r...   \n",
       "394   <a href=\"http://twitter.com/download/iphone\" r...   \n",
       "1511  <a href=\"http://twitter.com/download/iphone\" r...   \n",
       "378   <a href=\"http://twitter.com/download/iphone\" r...   \n",
       "\n",
       "                                                   text  retweeted_status_id  \\\n",
       "1351  Here is a whole flock of puppers.  60/50 I'll ...                  NaN   \n",
       "1594  Meet Birf. He thinks he's gone blind. 10/10 ve...                  NaN   \n",
       "705   This is Pinot. He's a sophisticated doggo. You...                  NaN   \n",
       "2168  Meet Dug. Dug fucken loves peaches. 8/10 https...                  NaN   \n",
       "2305  My goodness. Very rare dog here. Large. Tail d...                  NaN   \n",
       "471   This is Binky. She appears to be rather h*ckin...                  NaN   \n",
       "2244  This is Erik. He's fucken massive. But also ki...                  NaN   \n",
       "394   This is Toby. He just found out you only prete...                  NaN   \n",
       "1511  I present to you... Dog Jesus. 13/10 (he could...                  NaN   \n",
       "378   This is Kona. Yesterday she stopped by the dep...                  NaN   \n",
       "\n",
       "      retweeted_status_user_id retweeted_status_timestamp  \\\n",
       "1351                       NaN                        NaN   \n",
       "1594                       NaN                        NaN   \n",
       "705                        NaN                        NaN   \n",
       "2168                       NaN                        NaN   \n",
       "2305                       NaN                        NaN   \n",
       "471                        NaN                        NaN   \n",
       "2244                       NaN                        NaN   \n",
       "394                        NaN                        NaN   \n",
       "1511                       NaN                        NaN   \n",
       "378                        NaN                        NaN   \n",
       "\n",
       "                                          expanded_urls  rating_numerator  \\\n",
       "1351  https://twitter.com/dog_rates/status/704054845...                60   \n",
       "1594  https://twitter.com/dog_rates/status/686377065...                10   \n",
       "705   https://twitter.com/dog_rates/status/785639753...                10   \n",
       "2168  https://twitter.com/dog_rates/status/669354382...                 8   \n",
       "2305  https://twitter.com/dog_rates/status/666837028...                 3   \n",
       "471   https://twitter.com/dog_rates/status/816697700...                12   \n",
       "2244  https://twitter.com/dog_rates/status/667886921...                11   \n",
       "394   https://twitter.com/dog_rates/status/825829644...                12   \n",
       "1511  https://twitter.com/dog_rates/status/691416866...                13   \n",
       "378   https://twitter.com/dog_rates/status/827933404...                12   \n",
       "\n",
       "      rating_denominator   name  doggo floofer  pupper puppo  \n",
       "1351                  50      a   None    None    None  None  \n",
       "1594                  10   Birf   None    None  pupper  None  \n",
       "705                   10  Pinot  doggo    None  pupper  None  \n",
       "2168                  10    Dug   None    None    None  None  \n",
       "2305                  10   None   None    None    None  None  \n",
       "471                   10  Binky   None    None    None  None  \n",
       "2244                  10   Erik   None    None    None  None  \n",
       "394                   10   Toby   None    None    None  None  \n",
       "1511                  10   None   None    None    None  None  \n",
       "378                   10   Kona   None    None  pupper  None  "
      ]
     },
     "execution_count": 192,
     "metadata": {},
     "output_type": "execute_result"
    }
   ],
   "source": [
    "# Visualise sample from archive file\n",
    "df_basic.sample(10)"
   ]
  },
  {
   "cell_type": "code",
   "execution_count": 193,
   "metadata": {
    "collapsed": false
   },
   "outputs": [
    {
     "name": "stdout",
     "output_type": "stream",
     "text": [
      "<class 'pandas.core.frame.DataFrame'>\n",
      "RangeIndex: 2356 entries, 0 to 2355\n",
      "Data columns (total 17 columns):\n",
      "tweet_id                      2356 non-null int64\n",
      "in_reply_to_status_id         78 non-null float64\n",
      "in_reply_to_user_id           78 non-null float64\n",
      "timestamp                     2356 non-null object\n",
      "source                        2356 non-null object\n",
      "text                          2356 non-null object\n",
      "retweeted_status_id           181 non-null float64\n",
      "retweeted_status_user_id      181 non-null float64\n",
      "retweeted_status_timestamp    181 non-null object\n",
      "expanded_urls                 2297 non-null object\n",
      "rating_numerator              2356 non-null int64\n",
      "rating_denominator            2356 non-null int64\n",
      "name                          2356 non-null object\n",
      "doggo                         2356 non-null object\n",
      "floofer                       2356 non-null object\n",
      "pupper                        2356 non-null object\n",
      "puppo                         2356 non-null object\n",
      "dtypes: float64(4), int64(3), object(10)\n",
      "memory usage: 313.0+ KB\n"
     ]
    }
   ],
   "source": [
    "# Programmatic asessment of content features of archive file\n",
    "df_basic.info()"
   ]
  },
  {
   "cell_type": "code",
   "execution_count": 194,
   "metadata": {
    "collapsed": false
   },
   "outputs": [
    {
     "data": {
      "text/html": [
       "<div>\n",
       "<table border=\"1\" class=\"dataframe\">\n",
       "  <thead>\n",
       "    <tr style=\"text-align: right;\">\n",
       "      <th></th>\n",
       "      <th>tweet_id</th>\n",
       "      <th>jpg_url</th>\n",
       "      <th>img_num</th>\n",
       "      <th>p1</th>\n",
       "      <th>p1_conf</th>\n",
       "      <th>p1_dog</th>\n",
       "      <th>p2</th>\n",
       "      <th>p2_conf</th>\n",
       "      <th>p2_dog</th>\n",
       "      <th>p3</th>\n",
       "      <th>p3_conf</th>\n",
       "      <th>p3_dog</th>\n",
       "    </tr>\n",
       "  </thead>\n",
       "  <tbody>\n",
       "    <tr>\n",
       "      <th>1368</th>\n",
       "      <td>761750502866649088</td>\n",
       "      <td>https://pbs.twimg.com/media/CYLDikFWEAAIy1y.jpg</td>\n",
       "      <td>1</td>\n",
       "      <td>golden_retriever</td>\n",
       "      <td>0.586937</td>\n",
       "      <td>True</td>\n",
       "      <td>Labrador_retriever</td>\n",
       "      <td>0.398260</td>\n",
       "      <td>True</td>\n",
       "      <td>kuvasz</td>\n",
       "      <td>0.005410</td>\n",
       "      <td>True</td>\n",
       "    </tr>\n",
       "    <tr>\n",
       "      <th>1238</th>\n",
       "      <td>746818907684614144</td>\n",
       "      <td>https://pbs.twimg.com/media/Cl071YVWEAAlF7N.jpg</td>\n",
       "      <td>1</td>\n",
       "      <td>dingo</td>\n",
       "      <td>0.175518</td>\n",
       "      <td>False</td>\n",
       "      <td>timber_wolf</td>\n",
       "      <td>0.133647</td>\n",
       "      <td>False</td>\n",
       "      <td>Ibizan_hound</td>\n",
       "      <td>0.101537</td>\n",
       "      <td>True</td>\n",
       "    </tr>\n",
       "    <tr>\n",
       "      <th>966</th>\n",
       "      <td>706291001778950144</td>\n",
       "      <td>https://pbs.twimg.com/media/Cc0_2tXXEAA2iTY.jpg</td>\n",
       "      <td>1</td>\n",
       "      <td>Border_terrier</td>\n",
       "      <td>0.587101</td>\n",
       "      <td>True</td>\n",
       "      <td>bull_mastiff</td>\n",
       "      <td>0.164087</td>\n",
       "      <td>True</td>\n",
       "      <td>Staffordshire_bullterrier</td>\n",
       "      <td>0.105011</td>\n",
       "      <td>True</td>\n",
       "    </tr>\n",
       "    <tr>\n",
       "      <th>67</th>\n",
       "      <td>667177989038297088</td>\n",
       "      <td>https://pbs.twimg.com/media/CUJK18UWEAEg7AR.jpg</td>\n",
       "      <td>1</td>\n",
       "      <td>vizsla</td>\n",
       "      <td>0.259249</td>\n",
       "      <td>True</td>\n",
       "      <td>Chesapeake_Bay_retriever</td>\n",
       "      <td>0.176293</td>\n",
       "      <td>True</td>\n",
       "      <td>Weimaraner</td>\n",
       "      <td>0.112369</td>\n",
       "      <td>True</td>\n",
       "    </tr>\n",
       "    <tr>\n",
       "      <th>1065</th>\n",
       "      <td>715680795826982913</td>\n",
       "      <td>https://pbs.twimg.com/media/Ce6b4MPWwAA22Xm.jpg</td>\n",
       "      <td>1</td>\n",
       "      <td>golden_retriever</td>\n",
       "      <td>0.990715</td>\n",
       "      <td>True</td>\n",
       "      <td>Labrador_retriever</td>\n",
       "      <td>0.002228</td>\n",
       "      <td>True</td>\n",
       "      <td>chow</td>\n",
       "      <td>0.001197</td>\n",
       "      <td>True</td>\n",
       "    </tr>\n",
       "  </tbody>\n",
       "</table>\n",
       "</div>"
      ],
      "text/plain": [
       "                tweet_id                                          jpg_url  \\\n",
       "1368  761750502866649088  https://pbs.twimg.com/media/CYLDikFWEAAIy1y.jpg   \n",
       "1238  746818907684614144  https://pbs.twimg.com/media/Cl071YVWEAAlF7N.jpg   \n",
       "966   706291001778950144  https://pbs.twimg.com/media/Cc0_2tXXEAA2iTY.jpg   \n",
       "67    667177989038297088  https://pbs.twimg.com/media/CUJK18UWEAEg7AR.jpg   \n",
       "1065  715680795826982913  https://pbs.twimg.com/media/Ce6b4MPWwAA22Xm.jpg   \n",
       "\n",
       "      img_num                p1   p1_conf p1_dog                        p2  \\\n",
       "1368        1  golden_retriever  0.586937   True        Labrador_retriever   \n",
       "1238        1             dingo  0.175518  False               timber_wolf   \n",
       "966         1    Border_terrier  0.587101   True              bull_mastiff   \n",
       "67          1            vizsla  0.259249   True  Chesapeake_Bay_retriever   \n",
       "1065        1  golden_retriever  0.990715   True        Labrador_retriever   \n",
       "\n",
       "       p2_conf p2_dog                         p3   p3_conf p3_dog  \n",
       "1368  0.398260   True                     kuvasz  0.005410   True  \n",
       "1238  0.133647  False               Ibizan_hound  0.101537   True  \n",
       "966   0.164087   True  Staffordshire_bullterrier  0.105011   True  \n",
       "67    0.176293   True                 Weimaraner  0.112369   True  \n",
       "1065  0.002228   True                       chow  0.001197   True  "
      ]
     },
     "execution_count": 194,
     "metadata": {},
     "output_type": "execute_result"
    }
   ],
   "source": [
    "# Visualise sample from prediction file\n",
    "df_predict.sample(5)"
   ]
  },
  {
   "cell_type": "code",
   "execution_count": 195,
   "metadata": {
    "collapsed": false
   },
   "outputs": [
    {
     "name": "stdout",
     "output_type": "stream",
     "text": [
      "<class 'pandas.core.frame.DataFrame'>\n",
      "RangeIndex: 2075 entries, 0 to 2074\n",
      "Data columns (total 12 columns):\n",
      "tweet_id    2075 non-null int64\n",
      "jpg_url     2075 non-null object\n",
      "img_num     2075 non-null int64\n",
      "p1          2075 non-null object\n",
      "p1_conf     2075 non-null float64\n",
      "p1_dog      2075 non-null bool\n",
      "p2          2075 non-null object\n",
      "p2_conf     2075 non-null float64\n",
      "p2_dog      2075 non-null bool\n",
      "p3          2075 non-null object\n",
      "p3_conf     2075 non-null float64\n",
      "p3_dog      2075 non-null bool\n",
      "dtypes: bool(3), float64(3), int64(2), object(4)\n",
      "memory usage: 152.1+ KB\n"
     ]
    }
   ],
   "source": [
    "# Visualise content features of prediction file\n",
    "df_predict.info()"
   ]
  },
  {
   "cell_type": "code",
   "execution_count": 196,
   "metadata": {
    "collapsed": false
   },
   "outputs": [
    {
     "data": {
      "text/html": [
       "<div>\n",
       "<table border=\"1\" class=\"dataframe\">\n",
       "  <thead>\n",
       "    <tr style=\"text-align: right;\">\n",
       "      <th></th>\n",
       "      <th>id</th>\n",
       "      <th>retweet_count</th>\n",
       "      <th>favorite_count</th>\n",
       "    </tr>\n",
       "  </thead>\n",
       "  <tbody>\n",
       "    <tr>\n",
       "      <th>2681</th>\n",
       "      <td>831552930092285952</td>\n",
       "      <td>2481</td>\n",
       "      <td>9490</td>\n",
       "    </tr>\n",
       "    <tr>\n",
       "      <th>715</th>\n",
       "      <td>782305867769217024</td>\n",
       "      <td>6105</td>\n",
       "      <td>17827</td>\n",
       "    </tr>\n",
       "    <tr>\n",
       "      <th>3042</th>\n",
       "      <td>784057939640352768</td>\n",
       "      <td>12212</td>\n",
       "      <td>31983</td>\n",
       "    </tr>\n",
       "    <tr>\n",
       "      <th>2716</th>\n",
       "      <td>826615380357632002</td>\n",
       "      <td>4287</td>\n",
       "      <td>0</td>\n",
       "    </tr>\n",
       "    <tr>\n",
       "      <th>1407</th>\n",
       "      <td>698178924120031232</td>\n",
       "      <td>790</td>\n",
       "      <td>2942</td>\n",
       "    </tr>\n",
       "  </tbody>\n",
       "</table>\n",
       "</div>"
      ],
      "text/plain": [
       "                      id  retweet_count  favorite_count\n",
       "2681  831552930092285952           2481            9490\n",
       "715   782305867769217024           6105           17827\n",
       "3042  784057939640352768          12212           31983\n",
       "2716  826615380357632002           4287               0\n",
       "1407  698178924120031232            790            2942"
      ]
     },
     "execution_count": 196,
     "metadata": {},
     "output_type": "execute_result"
    }
   ],
   "source": [
    "# Visualise sample from API file\n",
    "df_info.sample(5)"
   ]
  },
  {
   "cell_type": "code",
   "execution_count": 197,
   "metadata": {
    "collapsed": false
   },
   "outputs": [
    {
     "name": "stdout",
     "output_type": "stream",
     "text": [
      "<class 'pandas.core.frame.DataFrame'>\n",
      "RangeIndex: 4680 entries, 0 to 4679\n",
      "Data columns (total 3 columns):\n",
      "id                4680 non-null int64\n",
      "retweet_count     4680 non-null int64\n",
      "favorite_count    4680 non-null int64\n",
      "dtypes: int64(3)\n",
      "memory usage: 109.8 KB\n"
     ]
    }
   ],
   "source": [
    "# Visualise content features of API file\n",
    "df_info.info()"
   ]
  },
  {
   "cell_type": "markdown",
   "metadata": {},
   "source": [
    "<b>Visual assessment</b> was carried out by opening csv files in Microsoft Excel.<br>\n",
    "<b>Quality issues</b> (Completeness, Validity, Accuracy, Consistency):<br>\n",
    "- Data types quality issues: <br>\n",
    "-- \"tweet_id\" column is integer type, but should be string type as no operations are performed on it.<br>\n",
    "-- \"in_reply_to_status_id\", \"in_reply_to_user_id\", \"retweeted_status_id\", \"retweeted_status_user_id\" columns should be strings as well.<br>\n",
    "-- \"timestamp\", \"retweeted_status_timestamp\" columns should be date type<br>\n",
    "-- \"rating_numerator\", \"rating_denominator\" should be floating type<br>\n",
    "\n",
    "- Other quality issues:<br> \n",
    "-- Some \"tweet_id\" in the archive file (df_basic) do not appear in the prediction file (df_predict) (there are 2356 IDs in the first file, but only 2075 in the second)<br>\n",
    "-- The \"text\" column in df_basic always contains the URL at the end<br>\n",
    "-- The \"names\" in df_basic column sometimes contains invalid names (such as \"a\",\"o\",\"all\",\"just\" etc)<br>\n",
    "-- There are missing values in the \"expanded_urls\" column of df_basic<br>\n",
    "-- Retweets should be excluded from the tweets<br>\n",
    "-- Some entries have missing values for all of the \"doggo\", \"floofer\", \"pupper\", \"puppo\" columns<br>\n",
    "-- Invalid ratings for where 9/11 and 7/11 is mentioned in the \"text\" column<br>\n",
    "-- Columns \"p1\",\"p2\",\"p3\" in the df_predict should be all capitalised<br>\n",
    "\n",
    "<br><b>Tidiness issues</b>:<br>\n",
    "- Columns \"doggo\", \"floofer\", \"pupper\", \"puppo\" should be only one column (named \"class\") containing one of the 4 values<br>\n",
    "- Column \"id\" in the API file should be renamed \"tweet_id\"\n",
    "- All 3 data sources should be merged into one table <br>\n",
    "\n",
    "\n",
    "\n"
   ]
  },
  {
   "cell_type": "markdown",
   "metadata": {},
   "source": [
    "# Data Cleaning"
   ]
  },
  {
   "cell_type": "markdown",
   "metadata": {},
   "source": [
    "Make copies of the original pieces of data are made prior to cleaning."
   ]
  },
  {
   "cell_type": "code",
   "execution_count": 198,
   "metadata": {
    "collapsed": false,
    "scrolled": true
   },
   "outputs": [],
   "source": [
    "# Make copies of dataframes to clean \n",
    "df_basic_clean = df_basic.copy()\n",
    "df_predict_clean = df_predict.copy()\n",
    "df_info_clean = df_info.copy()"
   ]
  },
  {
   "cell_type": "markdown",
   "metadata": {},
   "source": [
    "<b>Define</b> Data cleaning <b>Step 1</b><br>\n",
    "-- Convert \"tweet_id\" from integer type to string type as no operations are performed on it.<br>\n",
    "-- Convert \"in_reply_to_status_id\", \"in_reply_to_user_id\", \"retweeted_status_id\", \"retweeted_status_user_id\" columns to string<br>\n",
    "-- Convert \"rating_numerator\", \"rating_denominator\" to floating type<br>\n",
    "\n",
    "<br><b>Step 1- Code</b>"
   ]
  },
  {
   "cell_type": "code",
   "execution_count": 199,
   "metadata": {
    "collapsed": false
   },
   "outputs": [],
   "source": [
    "# Data type conversions\n",
    "df_basic_clean.tweet_id = df_basic_clean.tweet_id.astype(str)\n",
    "df_predict_clean.tweet_id = df_predict_clean.tweet_id.astype(str)\n",
    "df_info_clean.id = df_info_clean.id.astype(str)\n",
    "\n",
    "df_basic_clean.in_reply_to_status_id = df_basic_clean.in_reply_to_status_id.astype(str)\n",
    "df_basic_clean.in_reply_to_user_id = df_basic_clean.in_reply_to_user_id.astype(str)\n",
    "df_basic_clean.retweeted_status_id = df_basic_clean.in_reply_to_user_id.astype(str)\n",
    "df_basic_clean.retweeted_status_user_id = df_basic_clean.retweeted_status_user_id.astype(str)\n",
    "\n",
    "df_basic_clean.rating_numerator = df_basic_clean.rating_numerator.astype('float64')\n",
    "df_basic_clean.rating_denominator = df_basic_clean.rating_denominator.astype('float64')"
   ]
  },
  {
   "cell_type": "markdown",
   "metadata": {},
   "source": [
    "<b>Step 1- Test</b> data type conversion"
   ]
  },
  {
   "cell_type": "code",
   "execution_count": 200,
   "metadata": {
    "collapsed": false
   },
   "outputs": [
    {
     "data": {
      "text/plain": [
       "str"
      ]
     },
     "execution_count": 200,
     "metadata": {},
     "output_type": "execute_result"
    }
   ],
   "source": [
    "# Test data type conversions\n",
    "type(df_basic_clean.tweet_id.iloc[0])"
   ]
  },
  {
   "cell_type": "code",
   "execution_count": 201,
   "metadata": {
    "collapsed": false
   },
   "outputs": [
    {
     "data": {
      "text/plain": [
       "str"
      ]
     },
     "execution_count": 201,
     "metadata": {},
     "output_type": "execute_result"
    }
   ],
   "source": [
    "type(df_predict_clean.tweet_id.iloc[0])"
   ]
  },
  {
   "cell_type": "code",
   "execution_count": 202,
   "metadata": {
    "collapsed": false
   },
   "outputs": [
    {
     "data": {
      "text/plain": [
       "str"
      ]
     },
     "execution_count": 202,
     "metadata": {},
     "output_type": "execute_result"
    }
   ],
   "source": [
    "type(df_info_clean.id.iloc[0])"
   ]
  },
  {
   "cell_type": "code",
   "execution_count": 203,
   "metadata": {
    "collapsed": false
   },
   "outputs": [
    {
     "data": {
      "text/plain": [
       "str"
      ]
     },
     "execution_count": 203,
     "metadata": {},
     "output_type": "execute_result"
    }
   ],
   "source": [
    "type(df_basic_clean.in_reply_to_status_id.iloc[0])"
   ]
  },
  {
   "cell_type": "code",
   "execution_count": 204,
   "metadata": {
    "collapsed": false
   },
   "outputs": [
    {
     "data": {
      "text/plain": [
       "str"
      ]
     },
     "execution_count": 204,
     "metadata": {},
     "output_type": "execute_result"
    }
   ],
   "source": [
    "type(df_basic_clean.in_reply_to_user_id.iloc[0])"
   ]
  },
  {
   "cell_type": "code",
   "execution_count": 205,
   "metadata": {
    "collapsed": false
   },
   "outputs": [
    {
     "data": {
      "text/plain": [
       "str"
      ]
     },
     "execution_count": 205,
     "metadata": {},
     "output_type": "execute_result"
    }
   ],
   "source": [
    "type(df_basic_clean.retweeted_status_id.iloc[0])"
   ]
  },
  {
   "cell_type": "code",
   "execution_count": 206,
   "metadata": {
    "collapsed": false
   },
   "outputs": [
    {
     "data": {
      "text/plain": [
       "str"
      ]
     },
     "execution_count": 206,
     "metadata": {},
     "output_type": "execute_result"
    }
   ],
   "source": [
    "type(df_basic_clean.retweeted_status_user_id.iloc[0])"
   ]
  },
  {
   "cell_type": "code",
   "execution_count": 207,
   "metadata": {
    "collapsed": false
   },
   "outputs": [
    {
     "data": {
      "text/plain": [
       "numpy.float64"
      ]
     },
     "execution_count": 207,
     "metadata": {},
     "output_type": "execute_result"
    }
   ],
   "source": [
    "type(df_basic_clean.rating_numerator.iloc[0])"
   ]
  },
  {
   "cell_type": "code",
   "execution_count": 208,
   "metadata": {
    "collapsed": false
   },
   "outputs": [
    {
     "data": {
      "text/plain": [
       "numpy.float64"
      ]
     },
     "execution_count": 208,
     "metadata": {},
     "output_type": "execute_result"
    }
   ],
   "source": [
    "type(df_basic_clean.rating_denominator.iloc[0])"
   ]
  },
  {
   "cell_type": "markdown",
   "metadata": {},
   "source": [
    "<b>Define</b> Data cleaning <b>Step 2</b><br>\n",
    "Rename column \"id\" in dataframe df_info_clean into \"tweet_id\"<br>\n",
    "<br><b>Step 2- Code</b>"
   ]
  },
  {
   "cell_type": "code",
   "execution_count": 209,
   "metadata": {
    "collapsed": false
   },
   "outputs": [],
   "source": [
    "# Renaming column\n",
    "df_info_clean.rename(columns={\"id\": \"tweet_id\"}, inplace=True)"
   ]
  },
  {
   "cell_type": "markdown",
   "metadata": {},
   "source": [
    "<b>Step 2- Test</b> column renaming"
   ]
  },
  {
   "cell_type": "code",
   "execution_count": 210,
   "metadata": {
    "collapsed": false
   },
   "outputs": [
    {
     "name": "stdout",
     "output_type": "stream",
     "text": [
      "<class 'pandas.core.frame.DataFrame'>\n",
      "RangeIndex: 4680 entries, 0 to 4679\n",
      "Data columns (total 3 columns):\n",
      "tweet_id          4680 non-null object\n",
      "retweet_count     4680 non-null int64\n",
      "favorite_count    4680 non-null int64\n",
      "dtypes: int64(2), object(1)\n",
      "memory usage: 109.8+ KB\n"
     ]
    }
   ],
   "source": [
    "df_info_clean.info()"
   ]
  },
  {
   "cell_type": "markdown",
   "metadata": {},
   "source": [
    "<b>Define</b> Data cleaning <b>Step 3</b><br>\n",
    "Merge the 3 sources into one dataframe<br>\n",
    "<br><b>Step 3 -Code</b>"
   ]
  },
  {
   "cell_type": "code",
   "execution_count": 211,
   "metadata": {
    "collapsed": true
   },
   "outputs": [],
   "source": [
    "# Merge basic clean and predict clean dataframes\n",
    "df_master = df_basic_clean.merge(df_predict_clean, how=\"inner\", on=\"tweet_id\").copy()\n",
    "\n",
    "# Drop master dataframe\n",
    "df_master.drop_duplicates(inplace=True)\n",
    "\n",
    "# Merge master dataframe with info clean dataframe\n",
    "df_master = df_master.merge(df_info_clean, how=\"inner\", on=\"tweet_id\").copy()\n",
    "\n",
    "# Drop duplicates in master dataframe by \"text\" column. \n",
    "df_master.drop_duplicates(subset='text', keep=\"first\", inplace=True)"
   ]
  },
  {
   "cell_type": "markdown",
   "metadata": {},
   "source": [
    "<b>Step 3- Test</b> dataframe merge"
   ]
  },
  {
   "cell_type": "code",
   "execution_count": 212,
   "metadata": {
    "collapsed": false
   },
   "outputs": [
    {
     "data": {
      "text/html": [
       "<div>\n",
       "<table border=\"1\" class=\"dataframe\">\n",
       "  <thead>\n",
       "    <tr style=\"text-align: right;\">\n",
       "      <th></th>\n",
       "      <th>tweet_id</th>\n",
       "      <th>in_reply_to_status_id</th>\n",
       "      <th>in_reply_to_user_id</th>\n",
       "      <th>timestamp</th>\n",
       "      <th>source</th>\n",
       "      <th>text</th>\n",
       "      <th>retweeted_status_id</th>\n",
       "      <th>retweeted_status_user_id</th>\n",
       "      <th>retweeted_status_timestamp</th>\n",
       "      <th>expanded_urls</th>\n",
       "      <th>...</th>\n",
       "      <th>p1_conf</th>\n",
       "      <th>p1_dog</th>\n",
       "      <th>p2</th>\n",
       "      <th>p2_conf</th>\n",
       "      <th>p2_dog</th>\n",
       "      <th>p3</th>\n",
       "      <th>p3_conf</th>\n",
       "      <th>p3_dog</th>\n",
       "      <th>retweet_count</th>\n",
       "      <th>favorite_count</th>\n",
       "    </tr>\n",
       "  </thead>\n",
       "  <tbody>\n",
       "    <tr>\n",
       "      <th>936</th>\n",
       "      <td>799757965289017345</td>\n",
       "      <td>nan</td>\n",
       "      <td>nan</td>\n",
       "      <td>2016-11-18 23:35:32 +0000</td>\n",
       "      <td>&lt;a href=\"http://twitter.com/download/iphone\" r...</td>\n",
       "      <td>This is Sobe. She's a h*ckin happy doggo. Only...</td>\n",
       "      <td>nan</td>\n",
       "      <td>nan</td>\n",
       "      <td>NaN</td>\n",
       "      <td>https://twitter.com/dog_rates/status/799757965...</td>\n",
       "      <td>...</td>\n",
       "      <td>0.442534</td>\n",
       "      <td>True</td>\n",
       "      <td>collie</td>\n",
       "      <td>0.288684</td>\n",
       "      <td>True</td>\n",
       "      <td>Shetland_sheepdog</td>\n",
       "      <td>0.196399</td>\n",
       "      <td>True</td>\n",
       "      <td>2380</td>\n",
       "      <td>9029</td>\n",
       "    </tr>\n",
       "    <tr>\n",
       "      <th>3792</th>\n",
       "      <td>668992363537309700</td>\n",
       "      <td>nan</td>\n",
       "      <td>nan</td>\n",
       "      <td>2015-11-24 03:19:43 +0000</td>\n",
       "      <td>&lt;a href=\"http://twitter.com/download/iphone\" r...</td>\n",
       "      <td>This is Harrison. He braves the snow like a ch...</td>\n",
       "      <td>nan</td>\n",
       "      <td>nan</td>\n",
       "      <td>NaN</td>\n",
       "      <td>https://twitter.com/dog_rates/status/668992363...</td>\n",
       "      <td>...</td>\n",
       "      <td>0.287506</td>\n",
       "      <td>False</td>\n",
       "      <td>tabby</td>\n",
       "      <td>0.206048</td>\n",
       "      <td>False</td>\n",
       "      <td>koala</td>\n",
       "      <td>0.081419</td>\n",
       "      <td>False</td>\n",
       "      <td>356</td>\n",
       "      <td>755</td>\n",
       "    </tr>\n",
       "    <tr>\n",
       "      <th>1606</th>\n",
       "      <td>749064354620928000</td>\n",
       "      <td>nan</td>\n",
       "      <td>nan</td>\n",
       "      <td>2016-07-02 02:17:13 +0000</td>\n",
       "      <td>&lt;a href=\"http://twitter.com/download/iphone\" r...</td>\n",
       "      <td>Meet Winston. He's pupset because I forgot to ...</td>\n",
       "      <td>nan</td>\n",
       "      <td>nan</td>\n",
       "      <td>NaN</td>\n",
       "      <td>https://twitter.com/dog_rates/status/749064354...</td>\n",
       "      <td>...</td>\n",
       "      <td>0.985222</td>\n",
       "      <td>True</td>\n",
       "      <td>Brabancon_griffon</td>\n",
       "      <td>0.003314</td>\n",
       "      <td>True</td>\n",
       "      <td>Pekinese</td>\n",
       "      <td>0.002989</td>\n",
       "      <td>True</td>\n",
       "      <td>1626</td>\n",
       "      <td>5053</td>\n",
       "    </tr>\n",
       "  </tbody>\n",
       "</table>\n",
       "<p>3 rows × 30 columns</p>\n",
       "</div>"
      ],
      "text/plain": [
       "                tweet_id in_reply_to_status_id in_reply_to_user_id  \\\n",
       "936   799757965289017345                   nan                 nan   \n",
       "3792  668992363537309700                   nan                 nan   \n",
       "1606  749064354620928000                   nan                 nan   \n",
       "\n",
       "                      timestamp  \\\n",
       "936   2016-11-18 23:35:32 +0000   \n",
       "3792  2015-11-24 03:19:43 +0000   \n",
       "1606  2016-07-02 02:17:13 +0000   \n",
       "\n",
       "                                                 source  \\\n",
       "936   <a href=\"http://twitter.com/download/iphone\" r...   \n",
       "3792  <a href=\"http://twitter.com/download/iphone\" r...   \n",
       "1606  <a href=\"http://twitter.com/download/iphone\" r...   \n",
       "\n",
       "                                                   text retweeted_status_id  \\\n",
       "936   This is Sobe. She's a h*ckin happy doggo. Only...                 nan   \n",
       "3792  This is Harrison. He braves the snow like a ch...                 nan   \n",
       "1606  Meet Winston. He's pupset because I forgot to ...                 nan   \n",
       "\n",
       "     retweeted_status_user_id retweeted_status_timestamp  \\\n",
       "936                       nan                        NaN   \n",
       "3792                      nan                        NaN   \n",
       "1606                      nan                        NaN   \n",
       "\n",
       "                                          expanded_urls      ...        \\\n",
       "936   https://twitter.com/dog_rates/status/799757965...      ...         \n",
       "3792  https://twitter.com/dog_rates/status/668992363...      ...         \n",
       "1606  https://twitter.com/dog_rates/status/749064354...      ...         \n",
       "\n",
       "       p1_conf  p1_dog                 p2   p2_conf p2_dog                 p3  \\\n",
       "936   0.442534    True             collie  0.288684   True  Shetland_sheepdog   \n",
       "3792  0.287506   False              tabby  0.206048  False              koala   \n",
       "1606  0.985222    True  Brabancon_griffon  0.003314   True           Pekinese   \n",
       "\n",
       "       p3_conf p3_dog  retweet_count favorite_count  \n",
       "936   0.196399   True           2380           9029  \n",
       "3792  0.081419  False            356            755  \n",
       "1606  0.002989   True           1626           5053  \n",
       "\n",
       "[3 rows x 30 columns]"
      ]
     },
     "execution_count": 212,
     "metadata": {},
     "output_type": "execute_result"
    }
   ],
   "source": [
    "# Show random 3 lines in master dataframe\n",
    "df_master.sample(3)"
   ]
  },
  {
   "cell_type": "code",
   "execution_count": 213,
   "metadata": {
    "collapsed": false
   },
   "outputs": [
    {
     "name": "stdout",
     "output_type": "stream",
     "text": [
      "<class 'pandas.core.frame.DataFrame'>\n",
      "Int64Index: 2067 entries, 0 to 4132\n",
      "Data columns (total 30 columns):\n",
      "tweet_id                      2067 non-null object\n",
      "in_reply_to_status_id         2067 non-null object\n",
      "in_reply_to_user_id           2067 non-null object\n",
      "timestamp                     2067 non-null object\n",
      "source                        2067 non-null object\n",
      "text                          2067 non-null object\n",
      "retweeted_status_id           2067 non-null object\n",
      "retweeted_status_user_id      2067 non-null object\n",
      "retweeted_status_timestamp    75 non-null object\n",
      "expanded_urls                 2067 non-null object\n",
      "rating_numerator              2067 non-null float64\n",
      "rating_denominator            2067 non-null float64\n",
      "name                          2067 non-null object\n",
      "doggo                         2067 non-null object\n",
      "floofer                       2067 non-null object\n",
      "pupper                        2067 non-null object\n",
      "puppo                         2067 non-null object\n",
      "jpg_url                       2067 non-null object\n",
      "img_num                       2067 non-null int64\n",
      "p1                            2067 non-null object\n",
      "p1_conf                       2067 non-null float64\n",
      "p1_dog                        2067 non-null bool\n",
      "p2                            2067 non-null object\n",
      "p2_conf                       2067 non-null float64\n",
      "p2_dog                        2067 non-null bool\n",
      "p3                            2067 non-null object\n",
      "p3_conf                       2067 non-null float64\n",
      "p3_dog                        2067 non-null bool\n",
      "retweet_count                 2067 non-null int64\n",
      "favorite_count                2067 non-null int64\n",
      "dtypes: bool(3), float64(5), int64(3), object(19)\n",
      "memory usage: 458.2+ KB\n"
     ]
    }
   ],
   "source": [
    "# Show master dataframe structure\n",
    "df_master.info()"
   ]
  },
  {
   "cell_type": "markdown",
   "metadata": {},
   "source": [
    "<b>Define</b> Data cleaning <b>Step 4</b><br>\n",
    "Remove URL from \"text\" column in the master dataframe<br>\n",
    "<br><b>Step 4- Code</b>"
   ]
  },
  {
   "cell_type": "code",
   "execution_count": 214,
   "metadata": {
    "collapsed": true
   },
   "outputs": [],
   "source": [
    "# Find the length of URLs\n",
    "url_len = len(df_master[\"text\"][0].split()[-1])+1\n",
    "\n",
    "# Make clean copy of master dataframe\n",
    "df_master_clean=df_master.copy()\n",
    "\n",
    "# Shorten the \"text\" column by the length of the URL\n",
    "df_master_clean[\"text\"] = df_master_clean[\"text\"].apply(lambda row: row[:-url_len])"
   ]
  },
  {
   "cell_type": "markdown",
   "metadata": {},
   "source": [
    "<br><b>Step 4- Test</b> removal of URL from \"text\" column"
   ]
  },
  {
   "cell_type": "code",
   "execution_count": 215,
   "metadata": {
    "collapsed": false
   },
   "outputs": [
    {
     "name": "stdout",
     "output_type": "stream",
     "text": [
      "URL removed from end of text column! \n"
     ]
    }
   ],
   "source": [
    "# Compare size of \"text\" in clean and unclean versions of the master dataframe\n",
    "if len(df_master.text[0]) - len(df_master_clean.text[0]) == url_len:\n",
    "    print(\"URL removed from end of text column! \")"
   ]
  },
  {
   "cell_type": "markdown",
   "metadata": {},
   "source": [
    "<b>Define</b> Data cleaning <b>Step 5</b><br>\n",
    "Replace the invalid \"names\" in df_master_clean with None.\n",
    "<br><b>Step 5- Code</b>"
   ]
  },
  {
   "cell_type": "code",
   "execution_count": 216,
   "metadata": {
    "collapsed": true
   },
   "outputs": [],
   "source": [
    "# Replace invalid with None value or corrected Name\n",
    "df_master_clean.name.replace('a', 'None', inplace=True)\n",
    "df_master_clean.name.replace('actually', 'None', inplace=True)\n",
    "df_master_clean.name.replace(\"all\",'None', inplace=True)\n",
    "df_master_clean.name.replace(\"an\",'None', inplace=True)\n",
    "df_master_clean.name.replace(\"by\",'None', inplace=True)\n",
    "df_master_clean.name.replace(\"getting\",'None', inplace=True)\n",
    "df_master_clean.name.replace(\"his\",'None', inplace=True)\n",
    "df_master_clean.name.replace(\"incredibly\",'None', inplace=True)\n",
    "df_master_clean.name.replace(\"infuriating\",'None', inplace=True)\n",
    "df_master_clean.name.replace(\"just\",'None', inplace=True)\n",
    "df_master_clean.name.replace(\"life\",'None', inplace=True)\n",
    "df_master_clean.name.replace(\"light\",'None', inplace=True) \n",
    "df_master_clean.name.replace(\"my\",'None', inplace=True) \n",
    "df_master_clean.name.replace(\"not\",'None', inplace=True) \n",
    "df_master_clean.name.replace(\"o\",'None', inplace=True) \n",
    "df_master_clean.name.replace(\"officially\",'None', inplace=True) \n",
    "df_master_clean.name.replace(\"old\",'None', inplace=True)\n",
    "df_master_clean.name.replace(\"one\",'None', inplace=True) \n",
    "df_master_clean.name.replace(\"quite\",'None', inplace=True) \n",
    "df_master_clean.name.replace(\"space\",'None', inplace=True)\n",
    "df_master_clean.name.replace(\"such\",'None', inplace=True)\n",
    "df_master_clean.name.replace(\"the\",'None', inplace=True)\n",
    "df_master_clean.name.replace(\"this\",'None', inplace=True)\n",
    "df_master_clean.name.replace(\"unacceptable\",\"O'Malley\", inplace=True)\n",
    "df_master_clean.name.replace(\"very\",\"None\", inplace=True)\n"
   ]
  },
  {
   "cell_type": "markdown",
   "metadata": {},
   "source": [
    "<br><b>Step 5- Test</b> replacement of invalid names"
   ]
  },
  {
   "cell_type": "code",
   "execution_count": 217,
   "metadata": {
    "collapsed": false
   },
   "outputs": [
    {
     "data": {
      "text/plain": [
       "1684            Abby\n",
       "1662            Abby\n",
       "1526             Ace\n",
       "3300            Acro\n",
       "2208           Adele\n",
       "3302           Aiden\n",
       "132              Aja\n",
       "758            Akumi\n",
       "1318              Al\n",
       "3340          Albert\n",
       "1414          Albert\n",
       "238            Albus\n",
       "648            Albus\n",
       "1828         Aldrick\n",
       "3522       Alejandro\n",
       "588        Alexander\n",
       "1972    Alexanderson\n",
       "768              Alf\n",
       "3900           Alfie\n",
       "2718           Alfie\n",
       "574            Alfie\n",
       "1054           Alfie\n",
       "1382           Alfie\n",
       "92              Alfy\n",
       "2872           Alice\n",
       "318            Alice\n",
       "2508           Amber\n",
       "2222         Ambrose\n",
       "3586             Amy\n",
       "3816          Amélie\n",
       "            ...     \n",
       "1508          Winnie\n",
       "1262          Winnie\n",
       "444          Winston\n",
       "640          Winston\n",
       "1312         Winston\n",
       "3104         Winston\n",
       "2062         Winston\n",
       "896          Winston\n",
       "1606         Winston\n",
       "3696         Winston\n",
       "1418          Wishes\n",
       "2432           Wyatt\n",
       "286            Wyatt\n",
       "644            Wyatt\n",
       "2300            Yoda\n",
       "984             Yogi\n",
       "76              Yogi\n",
       "2218            Zara\n",
       "3838            Zeek\n",
       "296             Zeke\n",
       "34              Zeke\n",
       "876             Zeke\n",
       "2004            Zeus\n",
       "1846            Ziva\n",
       "1570             Zoe\n",
       "190             Zoey\n",
       "3712            Zoey\n",
       "16              Zoey\n",
       "248            Zooey\n",
       "3192            Zuzu\n",
       "Name: name, dtype: object"
      ]
     },
     "execution_count": 217,
     "metadata": {},
     "output_type": "execute_result"
    }
   ],
   "source": [
    "df_master_clean.name.sort_values()"
   ]
  },
  {
   "cell_type": "markdown",
   "metadata": {},
   "source": [
    "<b>Define</b> Data cleaning <b>Step 6</b><br>\n",
    "Replace the missing \"expanded_urls\" in df_master_clean with their generated value.\n",
    "<br><b>Step 6- Code</b>"
   ]
  },
  {
   "cell_type": "code",
   "execution_count": 218,
   "metadata": {
    "collapsed": false
   },
   "outputs": [],
   "source": [
    "# Find missing URL and generate them based on existing pattern\n",
    "def generate_url(row):\n",
    "    if pd.notnull(row['expanded_urls']):\n",
    "        return row\n",
    "    else:\n",
    "        tweet_id = row['tweet_id']\n",
    "        row['expanded_urls'] = 'https://twitter.com/dog_rates/status/{}'.format(tweet_id)\n",
    "        return row\n",
    "\n",
    "\n",
    "# Apply the generate_url function on the master dataframe\n",
    "df_master_clean = df_master_clean.apply(generate_url, axis=1)"
   ]
  },
  {
   "cell_type": "markdown",
   "metadata": {},
   "source": [
    "<br><b>Step 6- Test</b> for remaining NULL values in the expanded URL column"
   ]
  },
  {
   "cell_type": "code",
   "execution_count": 219,
   "metadata": {
    "collapsed": false
   },
   "outputs": [
    {
     "data": {
      "text/plain": [
       "Series([], Name: expanded_urls, dtype: object)"
      ]
     },
     "execution_count": 219,
     "metadata": {},
     "output_type": "execute_result"
    }
   ],
   "source": [
    "# Look for NULL values in the \"expanded_url\" column\n",
    "df_master_clean.expanded_urls[df_master_clean.expanded_urls.isnull()]"
   ]
  },
  {
   "cell_type": "markdown",
   "metadata": {},
   "source": [
    "<b>Define</b> Data cleaning <b>Step 7</b><br>\n",
    "Retweets and responses should be excluded from the tweets\n",
    "<br><b>Step 7- Code</b>"
   ]
  },
  {
   "cell_type": "code",
   "execution_count": 220,
   "metadata": {
    "collapsed": true
   },
   "outputs": [],
   "source": [
    "# Find lines where reply and retweet columns are not empty and drop them from master dataframe\n",
    "replies = df_master_clean[df_master_clean.in_reply_to_status_id!=\"nan\"][\"tweet_id\"].index\n",
    "df_info_clean.drop(replies, inplace=True)\n",
    "\n",
    "retweets = df_master_clean[df_master_clean.retweeted_status_id!=\"nan\"][\"tweet_id\"].index\n",
    "df_master_clean.drop(retweets, inplace=True)"
   ]
  },
  {
   "cell_type": "markdown",
   "metadata": {},
   "source": [
    "<br><b>Step 7- Test</b> for remaining non-NULL values in reply and retweet columns"
   ]
  },
  {
   "cell_type": "code",
   "execution_count": 221,
   "metadata": {
    "collapsed": false
   },
   "outputs": [
    {
     "data": {
      "text/html": [
       "<div>\n",
       "<table border=\"1\" class=\"dataframe\">\n",
       "  <thead>\n",
       "    <tr style=\"text-align: right;\">\n",
       "      <th></th>\n",
       "      <th>tweet_id</th>\n",
       "      <th>in_reply_to_status_id</th>\n",
       "      <th>in_reply_to_user_id</th>\n",
       "      <th>timestamp</th>\n",
       "      <th>source</th>\n",
       "      <th>text</th>\n",
       "      <th>retweeted_status_id</th>\n",
       "      <th>retweeted_status_user_id</th>\n",
       "      <th>retweeted_status_timestamp</th>\n",
       "      <th>expanded_urls</th>\n",
       "      <th>...</th>\n",
       "      <th>p1_conf</th>\n",
       "      <th>p1_dog</th>\n",
       "      <th>p2</th>\n",
       "      <th>p2_conf</th>\n",
       "      <th>p2_dog</th>\n",
       "      <th>p3</th>\n",
       "      <th>p3_conf</th>\n",
       "      <th>p3_dog</th>\n",
       "      <th>retweet_count</th>\n",
       "      <th>favorite_count</th>\n",
       "    </tr>\n",
       "  </thead>\n",
       "  <tbody>\n",
       "  </tbody>\n",
       "</table>\n",
       "<p>0 rows × 30 columns</p>\n",
       "</div>"
      ],
      "text/plain": [
       "Empty DataFrame\n",
       "Columns: [tweet_id, in_reply_to_status_id, in_reply_to_user_id, timestamp, source, text, retweeted_status_id, retweeted_status_user_id, retweeted_status_timestamp, expanded_urls, rating_numerator, rating_denominator, name, doggo, floofer, pupper, puppo, jpg_url, img_num, p1, p1_conf, p1_dog, p2, p2_conf, p2_dog, p3, p3_conf, p3_dog, retweet_count, favorite_count]\n",
       "Index: []\n",
       "\n",
       "[0 rows x 30 columns]"
      ]
     },
     "execution_count": 221,
     "metadata": {},
     "output_type": "execute_result"
    }
   ],
   "source": [
    "df_master_clean[df_master_clean.in_reply_to_status_id!=\"nan\"]"
   ]
  },
  {
   "cell_type": "code",
   "execution_count": 222,
   "metadata": {
    "collapsed": false
   },
   "outputs": [
    {
     "data": {
      "text/html": [
       "<div>\n",
       "<table border=\"1\" class=\"dataframe\">\n",
       "  <thead>\n",
       "    <tr style=\"text-align: right;\">\n",
       "      <th></th>\n",
       "      <th>tweet_id</th>\n",
       "      <th>in_reply_to_status_id</th>\n",
       "      <th>in_reply_to_user_id</th>\n",
       "      <th>timestamp</th>\n",
       "      <th>source</th>\n",
       "      <th>text</th>\n",
       "      <th>retweeted_status_id</th>\n",
       "      <th>retweeted_status_user_id</th>\n",
       "      <th>retweeted_status_timestamp</th>\n",
       "      <th>expanded_urls</th>\n",
       "      <th>...</th>\n",
       "      <th>p1_conf</th>\n",
       "      <th>p1_dog</th>\n",
       "      <th>p2</th>\n",
       "      <th>p2_conf</th>\n",
       "      <th>p2_dog</th>\n",
       "      <th>p3</th>\n",
       "      <th>p3_conf</th>\n",
       "      <th>p3_dog</th>\n",
       "      <th>retweet_count</th>\n",
       "      <th>favorite_count</th>\n",
       "    </tr>\n",
       "  </thead>\n",
       "  <tbody>\n",
       "  </tbody>\n",
       "</table>\n",
       "<p>0 rows × 30 columns</p>\n",
       "</div>"
      ],
      "text/plain": [
       "Empty DataFrame\n",
       "Columns: [tweet_id, in_reply_to_status_id, in_reply_to_user_id, timestamp, source, text, retweeted_status_id, retweeted_status_user_id, retweeted_status_timestamp, expanded_urls, rating_numerator, rating_denominator, name, doggo, floofer, pupper, puppo, jpg_url, img_num, p1, p1_conf, p1_dog, p2, p2_conf, p2_dog, p3, p3_conf, p3_dog, retweet_count, favorite_count]\n",
       "Index: []\n",
       "\n",
       "[0 rows x 30 columns]"
      ]
     },
     "execution_count": 222,
     "metadata": {},
     "output_type": "execute_result"
    }
   ],
   "source": [
    "df_master_clean[df_master_clean.retweeted_status_id!=\"nan\"]"
   ]
  },
  {
   "cell_type": "markdown",
   "metadata": {},
   "source": [
    "<b>Define</b> Data cleaning <b>Step 8</b><br>\n",
    "Columns \"doggo\", \"floofer\", \"pupper\", \"puppo\" should be only one column (named \"categ\") containing the result of the 4 column values\n",
    "<br><b>Step 8- Code</b>"
   ]
  },
  {
   "cell_type": "code",
   "execution_count": 223,
   "metadata": {
    "collapsed": false
   },
   "outputs": [],
   "source": [
    "# Create new \"categ\" column to replace the existing \"doggo\", \"floofer\", \"pupper\", \"puppo\". \n",
    "# If there are values for more than one column, separate values in the categ column by comma\n",
    "df_master_clean.categ = 'None'\n",
    "\n",
    "# Define function to append appropriate values for the 4 dog categories\n",
    "def dog_classification(row):\n",
    "    dog_classification = []\n",
    " \n",
    "    if row['doggo'] == 'doggo':\n",
    "        dog_classification.append('doggo')\n",
    "    if row['floofer'] == 'floofer':\n",
    "        dog_classification.append('floofer')\n",
    "    if row['pupper'] == 'pupper':\n",
    "        dog_classification.append('pupper')\n",
    "    if row['puppo'] == 'puppo':\n",
    "        dog_classification.append('puppo')\n",
    "        \n",
    "    if len(dog_classification) < 1: \n",
    "        row['categ'] = 'None'\n",
    "    else: \n",
    "        row['categ'] = ','.join(dog_classification)\n",
    "    \n",
    "    return row\n",
    "\n",
    "# Apply dog_classification function to master dataframe\n",
    "df_master_clean = df_master_clean.apply(dog_classification, axis=1)\n",
    "\n",
    "# Drop the \"doggo\", \"floofer\", \"pupper\", \"puppo\" columns\n",
    "df_master_clean = df_master_clean.drop(['doggo', 'floofer', 'pupper', 'puppo'], axis=1)"
   ]
  },
  {
   "cell_type": "markdown",
   "metadata": {},
   "source": [
    "<br><b>Step 8- Test</b> for the existence of the new categ column and its content"
   ]
  },
  {
   "cell_type": "code",
   "execution_count": 224,
   "metadata": {
    "collapsed": false
   },
   "outputs": [
    {
     "name": "stdout",
     "output_type": "stream",
     "text": [
      "<class 'pandas.core.frame.DataFrame'>\n",
      "Int64Index: 2044 entries, 0 to 4132\n",
      "Data columns (total 27 columns):\n",
      "tweet_id                      2044 non-null object\n",
      "in_reply_to_status_id         2044 non-null object\n",
      "in_reply_to_user_id           2044 non-null object\n",
      "timestamp                     2044 non-null object\n",
      "source                        2044 non-null object\n",
      "text                          2044 non-null object\n",
      "retweeted_status_id           2044 non-null object\n",
      "retweeted_status_user_id      2044 non-null object\n",
      "retweeted_status_timestamp    75 non-null object\n",
      "expanded_urls                 2044 non-null object\n",
      "rating_numerator              2044 non-null float64\n",
      "rating_denominator            2044 non-null float64\n",
      "name                          2044 non-null object\n",
      "jpg_url                       2044 non-null object\n",
      "img_num                       2044 non-null int64\n",
      "p1                            2044 non-null object\n",
      "p1_conf                       2044 non-null float64\n",
      "p1_dog                        2044 non-null bool\n",
      "p2                            2044 non-null object\n",
      "p2_conf                       2044 non-null float64\n",
      "p2_dog                        2044 non-null bool\n",
      "p3                            2044 non-null object\n",
      "p3_conf                       2044 non-null float64\n",
      "p3_dog                        2044 non-null bool\n",
      "retweet_count                 2044 non-null int64\n",
      "favorite_count                2044 non-null int64\n",
      "categ                         2044 non-null object\n",
      "dtypes: bool(3), float64(5), int64(3), object(16)\n",
      "memory usage: 405.2+ KB\n"
     ]
    }
   ],
   "source": [
    "df_master_clean.info()"
   ]
  },
  {
   "cell_type": "code",
   "execution_count": 225,
   "metadata": {
    "collapsed": false
   },
   "outputs": [
    {
     "data": {
      "text/plain": [
       "array(['None', 'doggo', 'puppo', 'pupper', 'floofer', 'doggo,puppo',\n",
       "       'doggo,floofer', 'doggo,pupper'], dtype=object)"
      ]
     },
     "execution_count": 225,
     "metadata": {},
     "output_type": "execute_result"
    }
   ],
   "source": [
    "df_master_clean.categ.unique()"
   ]
  },
  {
   "cell_type": "markdown",
   "metadata": {},
   "source": [
    "<b>Define</b> Data cleaning <b>Step 9</b><br> \n",
    "Invalid ratings for where 9/11 and 24/7 and 7/11 is mentioned in the \"text\" column.<br>\n",
    "Find the rows where 9/11 and 24/7 and 7/11 is mentioned in the \"text\" column.<br>\n",
    "Check to find the real rating.<br>\n",
    "Replace the wrong rating with the corrected one.<br>\n",
    "<br><b>Step 9- Code</b>"
   ]
  },
  {
   "cell_type": "code",
   "execution_count": 226,
   "metadata": {
    "collapsed": false
   },
   "outputs": [
    {
     "data": {
      "text/plain": [
       "['After so many requests, this is Bretagne. She was the last surviving 9/11 search dog, and our second ever 14/10. RIP']"
      ]
     },
     "execution_count": 226,
     "metadata": {},
     "output_type": "execute_result"
    }
   ],
   "source": [
    "# Show rows with 9/11\n",
    "list(df_master_clean.text[df_master_clean.text.str.contains(\"9/11\")])"
   ]
  },
  {
   "cell_type": "code",
   "execution_count": 227,
   "metadata": {
    "collapsed": false
   },
   "outputs": [
    {
     "data": {
      "text/plain": [
       "1742    740373189193256964\n",
       "Name: tweet_id, dtype: object"
      ]
     },
     "execution_count": 227,
     "metadata": {},
     "output_type": "execute_result"
    }
   ],
   "source": [
    "# Find the tweet ID for the row with 9/11\n",
    "df_master_clean.tweet_id[df_master_clean.text.str.contains(\"9/11\")]"
   ]
  },
  {
   "cell_type": "code",
   "execution_count": 228,
   "metadata": {
    "collapsed": false
   },
   "outputs": [],
   "source": [
    "# Replace the numerator and denominator with those from the \"text\"\n",
    "df_master_clean.loc[df_master_clean['tweet_id']==\"740373189193256964\", ['rating_numerator']] = 14\n",
    "df_master_clean.loc[df_master_clean['tweet_id']==\"740373189193256964\", ['rating_denominator']] = 10"
   ]
  },
  {
   "cell_type": "code",
   "execution_count": 229,
   "metadata": {
    "collapsed": false
   },
   "outputs": [
    {
     "data": {
      "text/plain": [
       "['This is Darrel. He just robbed a 7/11 and is in a high speed police chase. Was just spotted by the helicopter 10/10']"
      ]
     },
     "execution_count": 229,
     "metadata": {},
     "output_type": "execute_result"
    }
   ],
   "source": [
    "# Show rows with 7/11\n",
    "list(df_master_clean.text[df_master_clean.text.str.contains(\"7/11\")])"
   ]
  },
  {
   "cell_type": "code",
   "execution_count": 230,
   "metadata": {
    "collapsed": false
   },
   "outputs": [
    {
     "data": {
      "text/plain": [
       "2800    682962037429899265\n",
       "Name: tweet_id, dtype: object"
      ]
     },
     "execution_count": 230,
     "metadata": {},
     "output_type": "execute_result"
    }
   ],
   "source": [
    "# Find the tweet ID for the row with 7/11\n",
    "df_master_clean.tweet_id[df_master_clean.text.str.contains(\"7/11\")]"
   ]
  },
  {
   "cell_type": "code",
   "execution_count": 231,
   "metadata": {
    "collapsed": true
   },
   "outputs": [],
   "source": [
    "# Replace the numerator and denominator with those from the \"text\"\n",
    "df_master_clean.loc[df_master_clean['tweet_id']==\"682962037429899265\", ['rating_numerator']] = 10\n",
    "df_master_clean.loc[df_master_clean['tweet_id']==\"682962037429899265\", ['rating_denominator']] = 10"
   ]
  },
  {
   "cell_type": "markdown",
   "metadata": {},
   "source": [
    "<br><b>Step 9- Test</b> for corrected rating"
   ]
  },
  {
   "cell_type": "code",
   "execution_count": 232,
   "metadata": {
    "collapsed": false
   },
   "outputs": [
    {
     "data": {
      "text/plain": [
       "1742    14.0\n",
       "Name: rating_numerator, dtype: float64"
      ]
     },
     "execution_count": 232,
     "metadata": {},
     "output_type": "execute_result"
    }
   ],
   "source": [
    "# Print numerator for the 9/11 tweet\n",
    "df_master_clean.rating_numerator[df_master_clean['tweet_id']==\"740373189193256964\"]"
   ]
  },
  {
   "cell_type": "code",
   "execution_count": 233,
   "metadata": {
    "collapsed": false
   },
   "outputs": [
    {
     "data": {
      "text/plain": [
       "1742    10.0\n",
       "Name: rating_denominator, dtype: float64"
      ]
     },
     "execution_count": 233,
     "metadata": {},
     "output_type": "execute_result"
    }
   ],
   "source": [
    "# Print denominator for the 9/11 tweet\n",
    "df_master_clean.rating_denominator[df_master_clean['tweet_id']==\"740373189193256964\"]"
   ]
  },
  {
   "cell_type": "code",
   "execution_count": 234,
   "metadata": {
    "collapsed": false
   },
   "outputs": [
    {
     "data": {
      "text/plain": [
       "2800    10.0\n",
       "Name: rating_numerator, dtype: float64"
      ]
     },
     "execution_count": 234,
     "metadata": {},
     "output_type": "execute_result"
    }
   ],
   "source": [
    "# Print numerator for the 7/11 tweet\n",
    "df_master_clean.rating_numerator[df_master_clean['tweet_id']==\"682962037429899265\"]"
   ]
  },
  {
   "cell_type": "code",
   "execution_count": 235,
   "metadata": {
    "collapsed": false
   },
   "outputs": [
    {
     "data": {
      "text/plain": [
       "2800    10.0\n",
       "Name: rating_denominator, dtype: float64"
      ]
     },
     "execution_count": 235,
     "metadata": {},
     "output_type": "execute_result"
    }
   ],
   "source": [
    "# Print denominator for the 7/11 tweet\n",
    "df_master_clean.rating_denominator[df_master_clean['tweet_id']==\"682962037429899265\"]"
   ]
  },
  {
   "cell_type": "markdown",
   "metadata": {},
   "source": [
    "<b>Define</b> Data cleaning <b>Step 10</b><br>\n",
    "Capitalize the values in \"p1\",\"p2\",\"p3\"\n",
    "<br><b>Step 10- Code</b>"
   ]
  },
  {
   "cell_type": "code",
   "execution_count": 236,
   "metadata": {
    "collapsed": false
   },
   "outputs": [],
   "source": [
    "df_master_clean.p1=df_master_clean.p1.str.capitalize()\n",
    "df_master_clean.p2=df_master_clean.p2.str.capitalize()\n",
    "df_master_clean.p3=df_master_clean.p3.str.capitalize()"
   ]
  },
  {
   "cell_type": "markdown",
   "metadata": {},
   "source": [
    "<br><b>Step 10- Test</b> capitalization"
   ]
  },
  {
   "cell_type": "code",
   "execution_count": 237,
   "metadata": {
    "collapsed": false
   },
   "outputs": [
    {
     "data": {
      "text/plain": [
       "694                       Acorn_squash\n",
       "3254                      Acorn_squash\n",
       "1220                      Afghan_hound\n",
       "1014                      Afghan_hound\n",
       "530                       Afghan_hound\n",
       "430                       Afghan_hound\n",
       "3240                 African_crocodile\n",
       "1394                      African_grey\n",
       "3554               African_hunting_dog\n",
       "2154                             Agama\n",
       "3754                          Airedale\n",
       "4034                          Airedale\n",
       "3282                          Airedale\n",
       "3376                          Airedale\n",
       "2778                          Airedale\n",
       "2926                          Airedale\n",
       "1498                          Airedale\n",
       "2968                          Airedale\n",
       "846                           Airedale\n",
       "1206                          Airedale\n",
       "2230                          Airedale\n",
       "376                           Airedale\n",
       "1940                               Alp\n",
       "1566               American_black_bear\n",
       "2618    American_staffordshire_terrier\n",
       "964     American_staffordshire_terrier\n",
       "3854    American_staffordshire_terrier\n",
       "3032    American_staffordshire_terrier\n",
       "3594    American_staffordshire_terrier\n",
       "466     American_staffordshire_terrier\n",
       "                     ...              \n",
       "2040                           Whippet\n",
       "30                             Whippet\n",
       "2306                        White_wolf\n",
       "380                         White_wolf\n",
       "2706                        White_wolf\n",
       "2186                         Wild_boar\n",
       "2258                      Window_shade\n",
       "3658                      Window_shade\n",
       "1866                      Window_shade\n",
       "1022           Wire-haired_fox_terrier\n",
       "1604           Wire-haired_fox_terrier\n",
       "1740                            Wombat\n",
       "2814                            Wombat\n",
       "3388                            Wombat\n",
       "3342                            Wombat\n",
       "3126                       Wood_rabbit\n",
       "2648                       Wood_rabbit\n",
       "3626                       Wood_rabbit\n",
       "476                       Wooden_spoon\n",
       "3640                              Wool\n",
       "2270                              Wool\n",
       "3562                 Yorkshire_terrier\n",
       "1042                 Yorkshire_terrier\n",
       "2678                 Yorkshire_terrier\n",
       "3952                 Yorkshire_terrier\n",
       "348                  Yorkshire_terrier\n",
       "2300                 Yorkshire_terrier\n",
       "2696                 Yorkshire_terrier\n",
       "1994                 Yorkshire_terrier\n",
       "3538                             Zebra\n",
       "Name: p1, dtype: object"
      ]
     },
     "execution_count": 237,
     "metadata": {},
     "output_type": "execute_result"
    }
   ],
   "source": [
    "df_master_clean.p1.sort_values()"
   ]
  },
  {
   "cell_type": "code",
   "execution_count": 238,
   "metadata": {
    "collapsed": false
   },
   "outputs": [
    {
     "data": {
      "text/plain": [
       "472                      Academic_gown\n",
       "3578                         Accordion\n",
       "2596                     Affenpinscher\n",
       "736                       Afghan_hound\n",
       "1554                      Afghan_hound\n",
       "98                        Afghan_hound\n",
       "4080                      Afghan_hound\n",
       "4026               African_hunting_dog\n",
       "2702                          Airedale\n",
       "3036                          Airedale\n",
       "678                           Airedale\n",
       "3452                          Airedale\n",
       "2168                          Airedale\n",
       "1150                          Airedale\n",
       "3264                American_alligator\n",
       "3240                American_alligator\n",
       "3468               American_black_bear\n",
       "360                American_black_bear\n",
       "3616               American_black_bear\n",
       "68      American_staffordshire_terrier\n",
       "874     American_staffordshire_terrier\n",
       "1830    American_staffordshire_terrier\n",
       "380     American_staffordshire_terrier\n",
       "910     American_staffordshire_terrier\n",
       "1698    American_staffordshire_terrier\n",
       "336     American_staffordshire_terrier\n",
       "1324    American_staffordshire_terrier\n",
       "3330    American_staffordshire_terrier\n",
       "378     American_staffordshire_terrier\n",
       "442     American_staffordshire_terrier\n",
       "                     ...              \n",
       "2052                           Whippet\n",
       "1484                           Whippet\n",
       "1376                           Whippet\n",
       "792                            Whippet\n",
       "1282                           Whippet\n",
       "3548                           Whippet\n",
       "2868                           Whippet\n",
       "3122                           Whippet\n",
       "126                            Whippet\n",
       "498                            Whippet\n",
       "480                         White_wolf\n",
       "1750                               Wig\n",
       "3510                               Wig\n",
       "590                      Window_screen\n",
       "2258                     Window_screen\n",
       "2972                     Window_screen\n",
       "122                      Window_screen\n",
       "1948                      Window_shade\n",
       "1744                       Windsor_tie\n",
       "3524           Wire-haired_fox_terrier\n",
       "2090           Wire-haired_fox_terrier\n",
       "2120           Wire-haired_fox_terrier\n",
       "1612           Wire-haired_fox_terrier\n",
       "2276                            Wombat\n",
       "3564                       Wood_rabbit\n",
       "4110                 Yorkshire_terrier\n",
       "1266                 Yorkshire_terrier\n",
       "3090                 Yorkshire_terrier\n",
       "2458                 Yorkshire_terrier\n",
       "3004                 Yorkshire_terrier\n",
       "Name: p2, dtype: object"
      ]
     },
     "execution_count": 238,
     "metadata": {},
     "output_type": "execute_result"
    }
   ],
   "source": [
    "df_master_clean.p2.sort_values()"
   ]
  },
  {
   "cell_type": "code",
   "execution_count": 239,
   "metadata": {
    "collapsed": false
   },
   "outputs": [
    {
     "data": {
      "text/plain": [
       "2898                             Abaya\n",
       "3482                             Abaya\n",
       "4042                             Acorn\n",
       "1664                     Affenpinscher\n",
       "2952                      Afghan_hound\n",
       "3864                      Afghan_hound\n",
       "3422                      Afghan_hound\n",
       "3918                 African_chameleon\n",
       "3932                      African_grey\n",
       "3648                             Agama\n",
       "2732                             Agama\n",
       "630                           Airedale\n",
       "2602                          Airedale\n",
       "3444                          Airedale\n",
       "2966                          Airedale\n",
       "1028                          Airedale\n",
       "2534                          Airedale\n",
       "2820                          Airedale\n",
       "890                           Airedale\n",
       "3396                          Airedale\n",
       "1266                          Airedale\n",
       "2864                          Airedale\n",
       "1936               American_black_bear\n",
       "852     American_staffordshire_terrier\n",
       "764     American_staffordshire_terrier\n",
       "2886    American_staffordshire_terrier\n",
       "1764    American_staffordshire_terrier\n",
       "124     American_staffordshire_terrier\n",
       "2984    American_staffordshire_terrier\n",
       "3008    American_staffordshire_terrier\n",
       "                     ...              \n",
       "2502                        White_wolf\n",
       "3740                        White_wolf\n",
       "390                         White_wolf\n",
       "4030                               Wig\n",
       "3666                               Wig\n",
       "2768                         Wild_boar\n",
       "3658                     Window_screen\n",
       "3314                       Windsor_tie\n",
       "3722                              Wing\n",
       "3386           Wire-haired_fox_terrier\n",
       "818            Wire-haired_fox_terrier\n",
       "1538           Wire-haired_fox_terrier\n",
       "1676                               Wok\n",
       "3588                       Wolf_spider\n",
       "1278                            Wombat\n",
       "2238                       Wood_rabbit\n",
       "3898                       Wood_rabbit\n",
       "3624                       Wood_rabbit\n",
       "3510                              Wool\n",
       "3218                              Wool\n",
       "1478                              Wool\n",
       "232                              Wreck\n",
       "2844                 Yorkshire_terrier\n",
       "676                  Yorkshire_terrier\n",
       "450                  Yorkshire_terrier\n",
       "2292                 Yorkshire_terrier\n",
       "2492                 Yorkshire_terrier\n",
       "3324                 Yorkshire_terrier\n",
       "3972                 Yorkshire_terrier\n",
       "2938                             Zebra\n",
       "Name: p3, dtype: object"
      ]
     },
     "execution_count": 239,
     "metadata": {},
     "output_type": "execute_result"
    }
   ],
   "source": [
    "df_master_clean.p3.sort_values()"
   ]
  },
  {
   "cell_type": "markdown",
   "metadata": {},
   "source": [
    "# Export to CSV"
   ]
  },
  {
   "cell_type": "code",
   "execution_count": 240,
   "metadata": {
    "collapsed": true
   },
   "outputs": [],
   "source": [
    "# Write the master clean dataframe into a CSV file\n",
    "df_master_clean.to_csv('Master WeRateDogs Clean.csv')"
   ]
  },
  {
   "cell_type": "markdown",
   "metadata": {},
   "source": [
    "# Data Insights"
   ]
  },
  {
   "cell_type": "markdown",
   "metadata": {},
   "source": [
    "<b>Q1:</b> What is the most popular dog breed?<br>\n",
    "Looks like the most popular dog breed is the Golden retriever, followed by the Labrador retriever and the Pembroke."
   ]
  },
  {
   "cell_type": "code",
   "execution_count": 241,
   "metadata": {
    "collapsed": false
   },
   "outputs": [
    {
     "data": {
      "text/plain": [
       "p1\n",
       "Golden_retriever               148\n",
       "Labrador_retriever              99\n",
       "Pembroke                        88\n",
       "Chihuahua                       80\n",
       "Pug                             57\n",
       "Chow                            44\n",
       "Samoyed                         42\n",
       "Pomeranian                      38\n",
       "Toy_poodle                      38\n",
       "Cocker_spaniel                  30\n",
       "Malamute                        30\n",
       "French_bulldog                  25\n",
       "Chesapeake_bay_retriever        23\n",
       "Miniature_pinscher              22\n",
       "Siberian_husky                  20\n",
       "German_shepherd                 20\n",
       "Staffordshire_bullterrier       20\n",
       "Cardigan                        19\n",
       "Maltese_dog                     18\n",
       "Shetland_sheepdog               18\n",
       "Beagle                          18\n",
       "Eskimo_dog                      18\n",
       "Shih-tzu                        17\n",
       "Lakeland_terrier                16\n",
       "Rottweiler                      16\n",
       "Italian_greyhound               16\n",
       "Kuvasz                          15\n",
       "West_highland_white_terrier     14\n",
       "Great_pyrenees                  14\n",
       "Basset                          13\n",
       "                              ... \n",
       "Rhodesian_ridgeback              4\n",
       "Weimaraner                       4\n",
       "Norwich_terrier                  4\n",
       "Mexican_hairless                 4\n",
       "Keeshond                         4\n",
       "Scottish_deerhound               3\n",
       "Leonberg                         3\n",
       "Brabancon_griffon                3\n",
       "Briard                           3\n",
       "Komondor                         3\n",
       "Cairn                            3\n",
       "Irish_water_spaniel              3\n",
       "Ibizan_hound                     3\n",
       "Welsh_springer_spaniel           3\n",
       "Greater_swiss_mountain_dog       3\n",
       "Curly-coated_retriever           3\n",
       "Wire-haired_fox_terrier          2\n",
       "Giant_schnauzer                  2\n",
       "Appenzeller                      2\n",
       "Black-and-tan_coonhound          2\n",
       "Australian_terrier               2\n",
       "Toy_terrier                      2\n",
       "Sussex_spaniel                   2\n",
       "Entlebucher                      1\n",
       "Standard_schnauzer               1\n",
       "Silky_terrier                    1\n",
       "Scotch_terrier                   1\n",
       "Groenendael                      1\n",
       "Clumber                          1\n",
       "Japanese_spaniel                 1\n",
       "Name: p1, dtype: int64"
      ]
     },
     "execution_count": 241,
     "metadata": {},
     "output_type": "execute_result"
    }
   ],
   "source": [
    "df_master_clean[df_master_clean['p1_dog']==True].groupby('p1')['p1'].count().sort_values(ascending=False)"
   ]
  },
  {
   "cell_type": "markdown",
   "metadata": {},
   "source": [
    "<b>Q2:</b> What is the most popular dog name?<br>\n",
    "Looks like there are many missing names, but other than that Cooper is the most popular name, follwed by Tucker."
   ]
  },
  {
   "cell_type": "code",
   "execution_count": 242,
   "metadata": {
    "collapsed": false
   },
   "outputs": [
    {
     "data": {
      "text/plain": [
       "name\n",
       "None              435\n",
       "Cooper             10\n",
       "Tucker              9\n",
       "Oliver              9\n",
       "Charlie             9\n",
       "Penny               8\n",
       "Lucy                8\n",
       "Bo                  7\n",
       "Sadie               7\n",
       "Daisy               7\n",
       "Jax                 6\n",
       "Koda                6\n",
       "Winston             6\n",
       "Rusty               6\n",
       "Toby                5\n",
       "Scout               5\n",
       "Dave                5\n",
       "Larry               5\n",
       "Lola                5\n",
       "Stanley             5\n",
       "Bella               5\n",
       "Leo                 5\n",
       "Chester             4\n",
       "Reggie              4\n",
       "Bear                4\n",
       "Gus                 4\n",
       "Oscar               4\n",
       "Milo                4\n",
       "Maggie              4\n",
       "Sophie              4\n",
       "                 ... \n",
       "Margo               1\n",
       "Meatball            1\n",
       "Malikai             1\n",
       "Major               1\n",
       "Maisey              1\n",
       "Mairi               1\n",
       "Maddie              1\n",
       "Mac                 1\n",
       "Mabel               1\n",
       "Maya                1\n",
       "Meyer               1\n",
       "Monster             1\n",
       "Misty               1\n",
       "Monkey              1\n",
       "Mona                1\n",
       "Molly               1\n",
       "Mollie              1\n",
       "Mojo                1\n",
       "Moe                 1\n",
       "Mitch               1\n",
       "Mingus              1\n",
       "Mia                 1\n",
       "Mimosa              1\n",
       "Millie              1\n",
       "Milky               1\n",
       "Miley               1\n",
       "Mike                1\n",
       "Miguel              1\n",
       "Michelangelope      1\n",
       "Kevin               1\n",
       "Name: name, dtype: int64"
      ]
     },
     "execution_count": 242,
     "metadata": {},
     "output_type": "execute_result"
    }
   ],
   "source": [
    "df_master_clean[df_master_clean['p1_dog']==True].groupby('name')['name'].count().sort_values(ascending=False)"
   ]
  },
  {
   "cell_type": "markdown",
   "metadata": {},
   "source": [
    "<b>Q3:</b> What are some descriptive statistics of the rating?<br>\n",
    "From the descriptive analytics table below we notice that the average numerator is 12.2 while the average denominator is 10.5 with standard deviations of 40.8 and 6.7 for the two measures."
   ]
  },
  {
   "cell_type": "code",
   "execution_count": 243,
   "metadata": {
    "collapsed": false,
    "scrolled": true
   },
   "outputs": [
    {
     "data": {
      "text/html": [
       "<div>\n",
       "<table border=\"1\" class=\"dataframe\">\n",
       "  <thead>\n",
       "    <tr style=\"text-align: right;\">\n",
       "      <th></th>\n",
       "      <th>rating_numerator</th>\n",
       "      <th>rating_denominator</th>\n",
       "      <th>img_num</th>\n",
       "      <th>p1_conf</th>\n",
       "      <th>p2_conf</th>\n",
       "      <th>p3_conf</th>\n",
       "      <th>retweet_count</th>\n",
       "      <th>favorite_count</th>\n",
       "    </tr>\n",
       "  </thead>\n",
       "  <tbody>\n",
       "    <tr>\n",
       "      <th>count</th>\n",
       "      <td>2044.000000</td>\n",
       "      <td>2044.000000</td>\n",
       "      <td>2044.000000</td>\n",
       "      <td>2044.000000</td>\n",
       "      <td>2.044000e+03</td>\n",
       "      <td>2.044000e+03</td>\n",
       "      <td>2044.000000</td>\n",
       "      <td>2044.000000</td>\n",
       "    </tr>\n",
       "    <tr>\n",
       "      <th>mean</th>\n",
       "      <td>12.212329</td>\n",
       "      <td>10.459393</td>\n",
       "      <td>1.202544</td>\n",
       "      <td>0.595354</td>\n",
       "      <td>1.347722e-01</td>\n",
       "      <td>6.023668e-02</td>\n",
       "      <td>2825.574853</td>\n",
       "      <td>8474.721135</td>\n",
       "    </tr>\n",
       "    <tr>\n",
       "      <th>std</th>\n",
       "      <td>40.884170</td>\n",
       "      <td>6.730299</td>\n",
       "      <td>0.560639</td>\n",
       "      <td>0.271279</td>\n",
       "      <td>1.010962e-01</td>\n",
       "      <td>5.099345e-02</td>\n",
       "      <td>4907.587944</td>\n",
       "      <td>12749.427511</td>\n",
       "    </tr>\n",
       "    <tr>\n",
       "      <th>min</th>\n",
       "      <td>0.000000</td>\n",
       "      <td>2.000000</td>\n",
       "      <td>1.000000</td>\n",
       "      <td>0.044333</td>\n",
       "      <td>1.011300e-08</td>\n",
       "      <td>1.740170e-10</td>\n",
       "      <td>12.000000</td>\n",
       "      <td>0.000000</td>\n",
       "    </tr>\n",
       "    <tr>\n",
       "      <th>25%</th>\n",
       "      <td>10.000000</td>\n",
       "      <td>10.000000</td>\n",
       "      <td>1.000000</td>\n",
       "      <td>0.365868</td>\n",
       "      <td>5.300115e-02</td>\n",
       "      <td>1.609288e-02</td>\n",
       "      <td>600.000000</td>\n",
       "      <td>1598.750000</td>\n",
       "    </tr>\n",
       "    <tr>\n",
       "      <th>50%</th>\n",
       "      <td>11.000000</td>\n",
       "      <td>10.000000</td>\n",
       "      <td>1.000000</td>\n",
       "      <td>0.588620</td>\n",
       "      <td>1.178485e-01</td>\n",
       "      <td>4.922740e-02</td>\n",
       "      <td>1329.500000</td>\n",
       "      <td>3720.000000</td>\n",
       "    </tr>\n",
       "    <tr>\n",
       "      <th>75%</th>\n",
       "      <td>12.000000</td>\n",
       "      <td>10.000000</td>\n",
       "      <td>1.000000</td>\n",
       "      <td>0.847062</td>\n",
       "      <td>1.963338e-01</td>\n",
       "      <td>9.174633e-02</td>\n",
       "      <td>3259.750000</td>\n",
       "      <td>10618.500000</td>\n",
       "    </tr>\n",
       "    <tr>\n",
       "      <th>max</th>\n",
       "      <td>1776.000000</td>\n",
       "      <td>170.000000</td>\n",
       "      <td>4.000000</td>\n",
       "      <td>1.000000</td>\n",
       "      <td>4.880140e-01</td>\n",
       "      <td>2.734190e-01</td>\n",
       "      <td>83799.000000</td>\n",
       "      <td>164525.000000</td>\n",
       "    </tr>\n",
       "  </tbody>\n",
       "</table>\n",
       "</div>"
      ],
      "text/plain": [
       "       rating_numerator  rating_denominator      img_num      p1_conf  \\\n",
       "count       2044.000000         2044.000000  2044.000000  2044.000000   \n",
       "mean          12.212329           10.459393     1.202544     0.595354   \n",
       "std           40.884170            6.730299     0.560639     0.271279   \n",
       "min            0.000000            2.000000     1.000000     0.044333   \n",
       "25%           10.000000           10.000000     1.000000     0.365868   \n",
       "50%           11.000000           10.000000     1.000000     0.588620   \n",
       "75%           12.000000           10.000000     1.000000     0.847062   \n",
       "max         1776.000000          170.000000     4.000000     1.000000   \n",
       "\n",
       "            p2_conf       p3_conf  retweet_count  favorite_count  \n",
       "count  2.044000e+03  2.044000e+03    2044.000000     2044.000000  \n",
       "mean   1.347722e-01  6.023668e-02    2825.574853     8474.721135  \n",
       "std    1.010962e-01  5.099345e-02    4907.587944    12749.427511  \n",
       "min    1.011300e-08  1.740170e-10      12.000000        0.000000  \n",
       "25%    5.300115e-02  1.609288e-02     600.000000     1598.750000  \n",
       "50%    1.178485e-01  4.922740e-02    1329.500000     3720.000000  \n",
       "75%    1.963338e-01  9.174633e-02    3259.750000    10618.500000  \n",
       "max    4.880140e-01  2.734190e-01   83799.000000   164525.000000  "
      ]
     },
     "execution_count": 243,
     "metadata": {},
     "output_type": "execute_result"
    }
   ],
   "source": [
    "# Compute descriptive statistics for the number type of data in master dataframe\n",
    "df_master_clean.describe(include=[np.number])"
   ]
  },
  {
   "cell_type": "markdown",
   "metadata": {},
   "source": [
    "<b>Q4:</b> Is there any apparent relationship between no. of times a tweet was counted as favorite and its no. of retweets?<br>\n",
    "Juding by the scatter plot below the number of of times a tweet was counted as favorite does seem to increase with the number of times it was retweeted."
   ]
  },
  {
   "cell_type": "code",
   "execution_count": 255,
   "metadata": {
    "collapsed": false
   },
   "outputs": [
    {
     "data": {
      "image/png": "[encoded data removed]",
      "text/plain": [
       "<matplotlib.figure.Figure at 0x7f8bd8a7eb00>"
      ]
     },
     "metadata": {},
     "output_type": "display_data"
    }
   ],
   "source": [
    "plt.scatter(df_master_clean.retweet_count,df_master_clean.favorite_count)\n",
    "plt.title(\"Relationship between retweets and favorite counts\")\n",
    "plt.xlabel(\"No. of retweets\")\n",
    "plt.ylabel(\"No. of times counted as favorite\")\n",
    "plt.show()"
   ]
  }
 ],
 "metadata": {
  "kernelspec": {
   "display_name": "Python 3",
   "language": "python",
   "name": "python3"
  },
  "language_info": {
   "codemirror_mode": {
    "name": "ipython",
    "version": 3
   },
   "file_extension": ".py",
   "mimetype": "text/x-python",
   "name": "python",
   "nbconvert_exporter": "python",
   "pygments_lexer": "ipython3",
   "version": "3.4.3"
  }
 },
 "nbformat": 4,
 "nbformat_minor": 2
}
